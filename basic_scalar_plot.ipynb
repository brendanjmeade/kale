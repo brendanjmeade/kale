{
 "cells": [
  {
   "cell_type": "code",
   "execution_count": 2,
   "id": "09b0384f-8336-4975-bdc3-8ece67c97801",
   "metadata": {
    "tags": []
   },
   "outputs": [],
   "source": [
    "import numpy as np\n",
    "import pyvista as pv\n",
    "from kale.algorithms import contour_banded\n",
    "from kale.helpers import add_contours\n",
    "from kale import theme\n",
    "import xarray as xr\n",
    "\n",
    "%config InlineBackend.figure_format = \"retina\""
   ]
  },
  {
   "cell_type": "markdown",
   "id": "7006c845-e077-44c6-9a6c-4042fb3ef2b6",
   "metadata": {},
   "source": [
    "# Load Data"
   ]
  },
  {
   "cell_type": "code",
   "execution_count": 3,
   "id": "af5dc4a5",
   "metadata": {
    "tags": []
   },
   "outputs": [],
   "source": [
    "MESH_GEOMETRY_FILE_NAME = \"nankai_121728_clean.vtk\"\n",
    "MESH_VALUES_FILE_NAME = \"2023_03_04_00_02_03.hdf\"\n",
    "MESH_Z_SCALE = 0.025\n",
    "TIME_STEP_INTERESTING = 1000"
   ]
  },
  {
   "cell_type": "code",
   "execution_count": 4,
   "id": "3f51513c",
   "metadata": {
    "tags": []
   },
   "outputs": [],
   "source": [
    "ds = xr.open_dataset(MESH_VALUES_FILE_NAME, engine=\"netcdf4\")\n",
    "data = ds[\"loading_rate\"][0, :]\n",
    "mesh = pv.read(MESH_GEOMETRY_FILE_NAME)\n",
    "mesh.cell_data[\"data\"] = data\n",
    "mesh.points[:, -1] *= MESH_Z_SCALE\n",
    "\n",
    "boundary = mesh.extract_feature_edges(\n",
    "    boundary_edges=True,\n",
    "    non_manifold_edges=False,\n",
    "    feature_edges=False,\n",
    "    manifold_edges=False,\n",
    ")\n",
    "boundary.clear_data()"
   ]
  },
  {
   "cell_type": "markdown",
   "id": "035801ec-794d-4311-8e94-bf8857973403",
   "metadata": {
    "tags": []
   },
   "source": [
    "# Banded contour for a single time"
   ]
  },
  {
   "cell_type": "code",
   "execution_count": 5,
   "id": "2900cc88-69e4-410f-a27a-c5d2f6b3dc99",
   "metadata": {
    "tags": []
   },
   "outputs": [
    {
     "data": {
      "application/vnd.jupyter.widget-view+json": {
       "model_id": "443994169c404f8992ef7c4d4c178a29",
       "version_major": 2,
       "version_minor": 0
      },
      "text/plain": [
       "Widget(value=\"<iframe src='http://escalante.kitware.com:45303/index.html?ui=P_0x7f29d2110050_0&reconnect=auto'…"
      ]
     },
     "metadata": {},
     "output_type": "display_data"
    }
   ],
   "source": [
    "pl = pv.Plotter()\n",
    "pl.add_mesh(\n",
    "    boundary, color=theme.CONTOUR_LINE_COLOR, line_width=theme.CONTOUR_LINE_WIDTH\n",
    ")\n",
    "box = pv.Box(mesh.bounds)\n",
    "pl.add_mesh(box, color=\"lightgrey\", culling=\"front\")\n",
    "pl.camera.zoom(1.2)\n",
    "\n",
    "CONTOUR_LEVELS = np.linspace(-60, 60, 21)\n",
    "\n",
    "# add_contours(plotter, source, scalars, levels, **kwargs)\n",
    "add_contours(\n",
    "    pl,\n",
    "    mesh,\n",
    "    scalars=\"data\",\n",
    "    levels=CONTOUR_LEVELS,\n",
    "    cmap=\"RdYlBu_r\",\n",
    "    show_scalar_bar=True,\n",
    "    scalar_bar_args=dict(title=f\"\", **theme.SCALAR_BAR_OPTS),\n",
    ")\n",
    "\n",
    "pl.show()"
   ]
  },
  {
   "cell_type": "code",
   "execution_count": null,
   "id": "e3f61665-5fb1-4793-9e97-a91ccb8cdb66",
   "metadata": {},
   "outputs": [],
   "source": []
  }
 ],
 "metadata": {
  "kernelspec": {
   "display_name": "kale",
   "language": "python",
   "name": "python3"
  },
  "language_info": {
   "codemirror_mode": {
    "name": "ipython",
    "version": 3
   },
   "file_extension": ".py",
   "mimetype": "text/x-python",
   "name": "python",
   "nbconvert_exporter": "python",
   "pygments_lexer": "ipython3",
   "version": "3.11.0"
  }
 },
 "nbformat": 4,
 "nbformat_minor": 5
}
