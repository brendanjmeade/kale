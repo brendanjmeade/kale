{
 "cells": [
  {
   "cell_type": "code",
   "execution_count": 8,
   "id": "09b0384f-8336-4975-bdc3-8ece67c97801",
   "metadata": {},
   "outputs": [],
   "source": [
    "import numpy as np\n",
    "import pyvista as pv\n",
    "from kale.algorithms import contour_banded\n"
   ]
  },
  {
   "cell_type": "code",
   "execution_count": 9,
   "id": "dadac17f-ce1f-4d25-b98f-7c6059c8c82b",
   "metadata": {},
   "outputs": [],
   "source": [
    "# Requires PyVista 0.38.1\n",
    "pv.set_jupyter_backend(\"server\")\n",
    "pv.global_theme.trame.interactive_ratio = 2\n",
    "pv.global_theme.trame.still_ratio = 2\n",
    "pv.global_theme.image_scale = 2  # upscales the saved screenshots/video frames"
   ]
  },
  {
   "cell_type": "code",
   "execution_count": 10,
   "id": "af5dc4a5",
   "metadata": {},
   "outputs": [],
   "source": [
    "MESH_GEOMETRY_FILE_NAME = \"nankai_121728_clean.vtk\"\n",
    "MESH_VALUES_FILE_NAME = \"2023_03_04_00_02_03.hdf\"\n",
    "MESH_Z_SCALE = 0.025\n",
    "TIME_STEP_INTERESTING = 1000\n",
    "CONTOUR_LINE_WIDTH = 1\n",
    "CONTOUR_LINE_COLOR = \"black\"\n",
    "COLOR_MAPS = {\n",
    "    \"cumulative_slip\": \"CET_L19\",  #'CET_C3',\n",
    "    \"geometric_moment\": \"CET_R3\",\n",
    "    \"last_event_slip\": \"CET_L19\",\n",
    "    \"loading_rate\": \"CET_C3\",\n",
    "}\n",
    "\n",
    "COLORBAR_FONT_SIZE = 34\n",
    "AXES_FONT_SIZE = 26\n",
    "TIMESTEP_FONT_SIZE = 12\n",
    "\n",
    "SCALAR_BAR_OPTS = dict(\n",
    "    # Position (coordinates are on the viewport)\n",
    "    vertical=True,\n",
    "    height=0.20,\n",
    "    width=0.05,\n",
    "    position_x=0.05,\n",
    "    position_y=0.40,\n",
    "    # Labels\n",
    "    title_font_size=AXES_FONT_SIZE,\n",
    "    label_font_size=AXES_FONT_SIZE,\n",
    "    n_labels=3,\n",
    "    italic=False,\n",
    "    fmt=\"%.1f\",\n",
    "    font_family=\"arial\",\n",
    "    shadow=True,\n",
    ")"
   ]
  },
  {
   "attachments": {},
   "cell_type": "markdown",
   "id": "7006c845-e077-44c6-9a6c-4042fb3ef2b6",
   "metadata": {},
   "source": [
    "# Load Data"
   ]
  },
  {
   "cell_type": "code",
   "execution_count": 20,
   "id": "3f51513c",
   "metadata": {},
   "outputs": [],
   "source": [
    "import xarray as xr\n",
    "MESH_GEOMETRY_FILE_NAME = \"nankai_121728_clean.vtk\"\n",
    "MESH_VALUES_FILE_NAME = \"2023_03_04_00_02_03.hdf\"\n",
    "ds = xr.open_dataset(MESH_VALUES_FILE_NAME, engine=\"netcdf4\")\n",
    "data = ds[\"loading_rate\"][0, :]\n",
    "mesh = pv.read(MESH_GEOMETRY_FILE_NAME)\n",
    "mesh.cell_data[\"data\"] = data\n",
    "mesh.points[:, -1] *= MESH_Z_SCALE\n",
    "\n",
    "boundary = mesh.extract_feature_edges(\n",
    "    boundary_edges=True,\n",
    "    non_manifold_edges=False,\n",
    "    feature_edges=False,\n",
    "    manifold_edges=False,\n",
    ")\n",
    "\n",
    "SCALAR_BAR_OPTS = dict(\n",
    "    vertical=True,\n",
    "    height=0.00,\n",
    "    width=0.00,\n",
    "    position_x=0.05,\n",
    "    position_y=0.40,\n",
    "    title_font_size=0,\n",
    "    label_font_size=0,\n",
    "    n_labels=0,\n",
    "    italic=False,\n",
    "    fmt=\"%.1f\",\n",
    "    font_family=\"arial\",\n",
    "    shadow=False,\n",
    ")\n"
   ]
  },
  {
   "attachments": {},
   "cell_type": "markdown",
   "id": "035801ec-794d-4311-8e94-bf8857973403",
   "metadata": {
    "tags": []
   },
   "source": [
    "# Banded contour for a single time"
   ]
  },
  {
   "cell_type": "code",
   "execution_count": 23,
   "id": "2900cc88-69e4-410f-a27a-c5d2f6b3dc99",
   "metadata": {},
   "outputs": [
    {
     "data": {
      "application/vnd.jupyter.widget-view+json": {
       "model_id": "e5d7eb3ddb904d6fbc0446fe542c956a",
       "version_major": 2,
       "version_minor": 0
      },
      "text/plain": [
       "Widget(value=\"<iframe src='http://localhost:52228/index.html?ui=P_0x29ea43b90_4&reconnect=auto' style='width: …"
      ]
     },
     "metadata": {},
     "output_type": "display_data"
    }
   ],
   "source": [
    "pl = pv.Plotter()\n",
    "pl.add_mesh(boundary, color=CONTOUR_LINE_COLOR, line_width=CONTOUR_LINE_WIDTH)\n",
    "box = pv.Box(mesh.bounds)\n",
    "pl.add_mesh(box, color=\"lightgrey\", culling=\"front\")\n",
    "pl.camera.zoom(1.2)\n",
    "pl.image_scale = 2\n",
    "\n",
    "CONTOUR_LEVELS = np.linspace(-60, 60, 21)\n",
    "N_COLORS = len(CONTOUR_LEVELS) - 1\n",
    "CLIM = [np.min(CONTOUR_LEVELS), np.max(CONTOUR_LEVELS)]\n",
    "\n",
    "contour, edges = contour_banded(\n",
    "    mesh,\n",
    "    CONTOUR_LEVELS,\n",
    "    rng=CLIM,\n",
    "    scalars=\"data\",\n",
    ")\n",
    "\n",
    "pl.add_mesh(\n",
    "    contour,\n",
    "    cmap=\"RdYlBu_r\",\n",
    "    clim=CLIM,\n",
    "    scalars=\"data\",\n",
    "    n_colors=N_COLORS,\n",
    "    scalar_bar_args=dict(title=f\"\", **SCALAR_BAR_OPTS),\n",
    ")\n",
    "pl.add_mesh(\n",
    "    edges.GetOutputPort(1), color=CONTOUR_LINE_COLOR, line_width=CONTOUR_LINE_WIDTH\n",
    ")\n",
    "pl.show()\n"
   ]
  }
 ],
 "metadata": {
  "kernelspec": {
   "display_name": "Python 3 (ipykernel)",
   "language": "python",
   "name": "python3"
  },
  "language_info": {
   "codemirror_mode": {
    "name": "ipython",
    "version": 3
   },
   "file_extension": ".py",
   "mimetype": "text/x-python",
   "name": "python",
   "nbconvert_exporter": "python",
   "pygments_lexer": "ipython3",
   "version": "3.11.0"
  },
  "vscode": {
   "interpreter": {
    "hash": "ebd63b96796195b8484c56a28d0ea41b67d5b22be7c83ff5c7ced0e2ede413f2"
   }
  }
 },
 "nbformat": 4,
 "nbformat_minor": 5
}
