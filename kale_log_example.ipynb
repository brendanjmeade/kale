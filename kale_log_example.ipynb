{
 "cells": [
  {
   "cell_type": "code",
   "execution_count": 1,
   "id": "09b0384f-8336-4975-bdc3-8ece67c97801",
   "metadata": {},
   "outputs": [],
   "source": [
    "import numpy as np\n",
    "import pyvista as pv\n",
    "from kale.algorithms import contour_banded\n",
    "%config InlineBackend.figure_format = \"retina\"\n"
   ]
  },
  {
   "cell_type": "code",
   "execution_count": 2,
   "id": "dadac17f-ce1f-4d25-b98f-7c6059c8c82b",
   "metadata": {},
   "outputs": [],
   "source": [
    "# Requires PyVista 0.38.1\n",
    "pv.set_jupyter_backend(\"server\")\n",
    "pv.global_theme.trame.interactive_ratio = 2\n",
    "pv.global_theme.trame.still_ratio = 2\n",
    "pv.global_theme.image_scale = 2  # upscales the saved screenshots/video frames"
   ]
  },
  {
   "cell_type": "code",
   "execution_count": 3,
   "id": "af5dc4a5",
   "metadata": {},
   "outputs": [],
   "source": [
    "MESH_GEOMETRY_FILE_NAME = \"nankai_121728_clean.vtk\"\n",
    "MESH_VALUES_FILE_NAME = \"2023_03_04_00_02_03.hdf\"\n",
    "MESH_Z_SCALE = 0.025\n",
    "TIME_STEP_INTERESTING = 1000\n",
    "CONTOUR_LINE_WIDTH = 1\n",
    "CONTOUR_LINE_COLOR = \"black\"\n",
    "COLOR_MAPS = {\n",
    "    \"cumulative_slip\": \"CET_L19\",  #'CET_C3',\n",
    "    \"geometric_moment\": \"CET_R3\",\n",
    "    \"last_event_slip\": \"CET_L19\",\n",
    "    \"loading_rate\": \"CET_C3\",\n",
    "}\n",
    "\n",
    "COLORBAR_FONT_SIZE = 34\n",
    "AXES_FONT_SIZE = 26\n",
    "TIMESTEP_FONT_SIZE = 12\n",
    "\n",
    "SCALAR_BAR_OPTS = dict(\n",
    "    # Position (coordinates are on the viewport)\n",
    "    vertical=True,\n",
    "    height=0.20,\n",
    "    width=0.05,\n",
    "    position_x=0.05,\n",
    "    position_y=0.40,\n",
    "    # Labels\n",
    "    title_font_size=AXES_FONT_SIZE,\n",
    "    label_font_size=AXES_FONT_SIZE,\n",
    "    n_labels=3,\n",
    "    italic=False,\n",
    "    fmt=\"%.1f\",\n",
    "    font_family=\"arial\",\n",
    "    shadow=True,\n",
    ")"
   ]
  },
  {
   "attachments": {},
   "cell_type": "markdown",
   "id": "7006c845-e077-44c6-9a6c-4042fb3ef2b6",
   "metadata": {},
   "source": [
    "# Load Data"
   ]
  },
  {
   "cell_type": "code",
   "execution_count": 7,
   "id": "3f51513c",
   "metadata": {},
   "outputs": [],
   "source": [
    "import xarray as xr\n",
    "MESH_GEOMETRY_FILE_NAME = \"nankai_121728_clean.vtk\"\n",
    "MESH_VALUES_FILE_NAME = \"2023_03_04_00_02_03.hdf\"\n",
    "ds = xr.open_dataset(MESH_VALUES_FILE_NAME, engine=\"netcdf4\")\n",
    "# data = ds[\"loading_rate\"][0, :]\n",
    "data = ds[\"cumulative_slip\"][40000, :]\n",
    "mesh = pv.read(MESH_GEOMETRY_FILE_NAME)\n",
    "mesh.points[:, -1] *= MESH_Z_SCALE\n",
    "\n",
    "# Extract boundary of mesh\n",
    "boundary = mesh.extract_feature_edges(\n",
    "    boundary_edges=True,\n",
    "    non_manifold_edges=False,\n",
    "    feature_edges=False,\n",
    "    manifold_edges=False,\n",
    ")\n",
    "\n",
    "# # Load fields from .npz file\n",
    "# npz_data = np.load(\"skies_single_step_erosion_figures_nankai.npz\")\n",
    "# mesh.cell_data[\"pre_event_slip_deficit\"] = npz_data[\"name1\"]\n",
    "# mesh.cell_data[\"event_slip\"] = npz_data[\"name2\"]\n",
    "# mesh.cell_data[\"post_event_slip_deficit\"] = npz_data[\"name3\"]\n",
    "# mesh.cell_data[\"meshes_areas\"] = npz_data[\"name4\"]\n",
    "\n",
    "SCALAR_BAR_OPTS = dict(\n",
    "    vertical=True,\n",
    "    height=0.50,\n",
    "    width=0.10,\n",
    "    position_x=0.05,\n",
    "    position_y=0.40,\n",
    "    title_font_size=10,\n",
    "    label_font_size=10,\n",
    "    n_labels=3,\n",
    "    italic=False,\n",
    "    fmt=\"%.1f\",\n",
    "    font_family=\"arial\",\n",
    "    shadow=False,\n",
    ")\n",
    "\n",
    "\n",
    "\n"
   ]
  },
  {
   "attachments": {},
   "cell_type": "markdown",
   "id": "035801ec-794d-4311-8e94-bf8857973403",
   "metadata": {
    "tags": []
   },
   "source": [
    "# Direct linear mapping"
   ]
  },
  {
   "cell_type": "code",
   "execution_count": 8,
   "id": "2900cc88-69e4-410f-a27a-c5d2f6b3dc99",
   "metadata": {},
   "outputs": [
    {
     "data": {
      "application/vnd.jupyter.widget-view+json": {
       "model_id": "38b8ef91e3124d1d8cc9803dee6c9788",
       "version_major": 2,
       "version_minor": 0
      },
      "text/plain": [
       "Widget(value=\"<iframe src='http://localhost:51612/index.html?ui=P_0x16aeba310_1&reconnect=auto' style='width: …"
      ]
     },
     "metadata": {},
     "output_type": "display_data"
    }
   ],
   "source": [
    "mesh.cell_data[\"data\"] = ds[\"cumulative_slip\"][40000, :]\n",
    "\n",
    "pl = pv.Plotter()\n",
    "pl.add_mesh(boundary, color=CONTOUR_LINE_COLOR, line_width=CONTOUR_LINE_WIDTH)\n",
    "box = pv.Box(mesh.bounds)\n",
    "pl.add_mesh(box, color=\"lightgrey\", culling=\"front\")\n",
    "CONTOUR_LEVELS = np.linspace(0, 20, 10)\n",
    "N_COLORS = len(CONTOUR_LEVELS) - 1\n",
    "CLIM = [np.min(CONTOUR_LEVELS), np.max(CONTOUR_LEVELS)]\n",
    "\n",
    "contour, edges = contour_banded(\n",
    "    mesh,\n",
    "    CONTOUR_LEVELS,\n",
    "    rng=CLIM,\n",
    "    scalars=\"data\",\n",
    ")\n",
    "pl.add_mesh(\n",
    "    contour,\n",
    "    cmap=\"RdYlBu_r\",\n",
    "    clim=CLIM,\n",
    "    scalars=\"data\",\n",
    "    n_colors=N_COLORS,\n",
    "    scalar_bar_args=dict(title=f\"\", **SCALAR_BAR_OPTS),\n",
    ")\n",
    "pl.add_mesh(\n",
    "    edges.GetOutputPort(1), color=CONTOUR_LINE_COLOR, line_width=CONTOUR_LINE_WIDTH\n",
    ")\n",
    "pl.show()\n"
   ]
  },
  {
   "attachments": {},
   "cell_type": "markdown",
   "id": "9b46a422",
   "metadata": {},
   "source": [
    "# Plot of same data but with log scaling\n",
    "# I don't know how to get the black contour lines"
   ]
  },
  {
   "cell_type": "code",
   "execution_count": 22,
   "id": "46adf258",
   "metadata": {},
   "outputs": [
    {
     "name": "stderr",
     "output_type": "stream",
     "text": [
      "/Users/meade/mambaforge/envs/kale/lib/python3.11/site-packages/xarray/core/computation.py:760: RuntimeWarning: divide by zero encountered in log10\n",
      "  result_data = func(*input_data)\n",
      "/Users/meade/mambaforge/envs/kale/lib/python3.11/site-packages/xarray/core/computation.py:760: RuntimeWarning: invalid value encountered in log10\n",
      "  result_data = func(*input_data)\n"
     ]
    },
    {
     "data": {
      "application/vnd.jupyter.widget-view+json": {
       "model_id": "eb2d86644acd4ff2859788952e447d59",
       "version_major": 2,
       "version_minor": 0
      },
      "text/plain": [
       "Widget(value=\"<iframe src='http://localhost:51612/index.html?ui=P_0x16aeebe90_11&reconnect=auto' style='width:…"
      ]
     },
     "metadata": {},
     "output_type": "display_data"
    }
   ],
   "source": [
    "mesh.cell_data[\"data\"] = np.log10(ds[\"cumulative_slip\"][40000, :])\n",
    "\n",
    "pl = pv.Plotter()\n",
    "pl.add_mesh(boundary, color=CONTOUR_LINE_COLOR, line_width=CONTOUR_LINE_WIDTH)\n",
    "box = pv.Box(mesh.bounds)\n",
    "pl.add_mesh(box, color=\"lightgrey\", culling=\"front\")\n",
    "CONTOUR_LEVELS = np.linspace(0, 20, 10)\n",
    "CONTOUR_LEVELS = np.logspace(-1, 0, 10)\n",
    "N_COLORS = len(CONTOUR_LEVELS) - 1\n",
    "CLIM = [np.min(CONTOUR_LEVELS), np.max(CONTOUR_LEVELS)]\n",
    "\n",
    "contour, edges = contour_banded(\n",
    "    mesh,\n",
    "    CONTOUR_LEVELS,\n",
    "    rng=CLIM,\n",
    "    scalars=\"data\",\n",
    ")\n",
    "pl.add_mesh(\n",
    "    contour,\n",
    "    cmap=\"RdYlBu_r\",\n",
    "    clim=CLIM,\n",
    "    scalars=\"data\",\n",
    "    n_colors=N_COLORS,\n",
    "    scalar_bar_args=dict(title=f\"\", **SCALAR_BAR_OPTS),\n",
    ")\n",
    "pl.add_mesh(\n",
    "    edges.GetOutputPort(1), color=CONTOUR_LINE_COLOR, line_width=CONTOUR_LINE_WIDTH\n",
    ")\n",
    "pl.show()\n"
   ]
  },
  {
   "cell_type": "code",
   "execution_count": null,
   "id": "a69732f8",
   "metadata": {},
   "outputs": [],
   "source": []
  }
 ],
 "metadata": {
  "kernelspec": {
   "display_name": "Python 3 (ipykernel)",
   "language": "python",
   "name": "python3"
  },
  "language_info": {
   "codemirror_mode": {
    "name": "ipython",
    "version": 3
   },
   "file_extension": ".py",
   "mimetype": "text/x-python",
   "name": "python",
   "nbconvert_exporter": "python",
   "pygments_lexer": "ipython3",
   "version": "3.11.0"
  },
  "vscode": {
   "interpreter": {
    "hash": "ebd63b96796195b8484c56a28d0ea41b67d5b22be7c83ff5c7ced0e2ede413f2"
   }
  }
 },
 "nbformat": 4,
 "nbformat_minor": 5
}
