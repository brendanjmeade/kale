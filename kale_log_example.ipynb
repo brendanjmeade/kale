{
 "cells": [
  {
   "cell_type": "code",
   "execution_count": null,
   "id": "09b0384f-8336-4975-bdc3-8ece67c97801",
   "metadata": {
    "tags": []
   },
   "outputs": [],
   "source": [
    "import numpy as np\n",
    "import pyvista as pv\n",
    "from kale.algorithms import contour_banded\n",
    "from kale import theme\n",
    "import xarray as xr\n",
    "\n",
    "%config InlineBackend.figure_format = \"retina\""
   ]
  },
  {
   "cell_type": "markdown",
   "id": "7006c845-e077-44c6-9a6c-4042fb3ef2b6",
   "metadata": {},
   "source": [
    "# Load Data"
   ]
  },
  {
   "cell_type": "code",
   "execution_count": null,
   "id": "af5dc4a5",
   "metadata": {
    "tags": []
   },
   "outputs": [],
   "source": [
    "MESH_GEOMETRY_FILE_NAME = \"nankai_121728_clean.vtk\"\n",
    "MESH_VALUES_FILE_NAME = \"2023_03_04_00_02_03.hdf\"\n",
    "MESH_Z_SCALE = 0.025\n",
    "TIME_STEP_INTERESTING = 1000"
   ]
  },
  {
   "cell_type": "code",
   "execution_count": null,
   "id": "3f51513c",
   "metadata": {
    "tags": []
   },
   "outputs": [],
   "source": [
    "ds = xr.open_dataset(MESH_VALUES_FILE_NAME, engine=\"netcdf4\")\n",
    "# data = ds[\"loading_rate\"][0, :]\n",
    "data = ds[\"cumulative_slip\"][40000, :]\n",
    "mesh = pv.read(MESH_GEOMETRY_FILE_NAME)\n",
    "mesh.points[:, -1] *= MESH_Z_SCALE\n",
    "\n",
    "# Extract boundary of mesh\n",
    "boundary = mesh.extract_feature_edges(\n",
    "    boundary_edges=True,\n",
    "    non_manifold_edges=False,\n",
    "    feature_edges=False,\n",
    "    manifold_edges=False,\n",
    ")\n",
    "boundary.clear_data()\n",
    "\n",
    "# # Load fields from .npz file\n",
    "# npz_data = np.load(\"skies_single_step_erosion_figures_nankai.npz\")\n",
    "# mesh.cell_data[\"pre_event_slip_deficit\"] = npz_data[\"name1\"]\n",
    "# mesh.cell_data[\"event_slip\"] = npz_data[\"name2\"]\n",
    "# mesh.cell_data[\"post_event_slip_deficit\"] = npz_data[\"name3\"]\n",
    "# mesh.cell_data[\"meshes_areas\"] = npz_data[\"name4\"]"
   ]
  },
  {
   "cell_type": "markdown",
   "id": "035801ec-794d-4311-8e94-bf8857973403",
   "metadata": {
    "tags": []
   },
   "source": [
    "# Direct linear mapping"
   ]
  },
  {
   "cell_type": "code",
   "execution_count": null,
   "id": "2900cc88-69e4-410f-a27a-c5d2f6b3dc99",
   "metadata": {
    "tags": []
   },
   "outputs": [],
   "source": [
    "mesh.cell_data[\"data\"] = ds[\"cumulative_slip\"][40000, :]\n",
    "\n",
    "pl = pv.Plotter()\n",
    "pl.add_mesh(boundary)\n",
    "\n",
    "box = pv.Box(mesh.bounds)\n",
    "pl.add_mesh(box, color=\"lightgrey\", culling=\"front\")\n",
    "\n",
    "CONTOUR_LEVELS = np.linspace(0, 20, 10)\n",
    "N_COLORS = len(CONTOUR_LEVELS) - 1\n",
    "CLIM = [np.min(CONTOUR_LEVELS), np.max(CONTOUR_LEVELS)]\n",
    "contour, edges = contour_banded(\n",
    "    mesh,\n",
    "    CONTOUR_LEVELS,\n",
    "    rng=CLIM,\n",
    "    scalars=\"data\",\n",
    ")\n",
    "\n",
    "pl.add_mesh(\n",
    "    contour,\n",
    "    cmap=\"RdYlBu_r\",\n",
    "    clim=CLIM,\n",
    "    scalars=\"data\",\n",
    "    n_colors=N_COLORS,\n",
    "    scalar_bar_args=dict(title=f\"\", **theme.SCALAR_BAR_OPTS),\n",
    ")\n",
    "pl.add_mesh(edges)\n",
    "pl.show()"
   ]
  },
  {
   "cell_type": "markdown",
   "id": "9b46a422",
   "metadata": {},
   "source": [
    "# Plot of same data but with log scaling"
   ]
  },
  {
   "cell_type": "code",
   "execution_count": null,
   "id": "46adf258",
   "metadata": {
    "tags": []
   },
   "outputs": [],
   "source": [
    "mesh.cell_data[\"data\"] = np.log10(ds[\"cumulative_slip\"][40000, :] + 0.0001)\n",
    "\n",
    "pl = pv.Plotter()\n",
    "pl.add_mesh(boundary)\n",
    "\n",
    "box = pv.Box(mesh.bounds)\n",
    "pl.add_mesh(box, color=\"lightgrey\", culling=\"front\")\n",
    "\n",
    "CONTOUR_LEVELS = np.linspace(0, 20, 10)\n",
    "CONTOUR_LEVELS = np.logspace(-1, 0, 10)\n",
    "N_COLORS = len(CONTOUR_LEVELS) - 1\n",
    "CLIM = [np.min(CONTOUR_LEVELS), np.max(CONTOUR_LEVELS)]\n",
    "contour, edges = contour_banded(\n",
    "    mesh,\n",
    "    CONTOUR_LEVELS,\n",
    "    rng=CLIM,\n",
    "    scalars=\"data\",\n",
    ")\n",
    "pl.add_mesh(\n",
    "    contour,\n",
    "    cmap=\"RdYlBu_r\",\n",
    "    clim=CLIM,\n",
    "    scalars=\"data\",\n",
    "    n_colors=N_COLORS,\n",
    "    log_scale=True,\n",
    "    scalar_bar_args=dict(title=f\"\", **theme.SCALAR_BAR_OPTS),\n",
    ")\n",
    "pl.add_mesh(edges)\n",
    "pl.show()"
   ]
  },
  {
   "cell_type": "code",
   "execution_count": null,
   "id": "a69732f8",
   "metadata": {},
   "outputs": [],
   "source": []
  }
 ],
 "metadata": {
  "kernelspec": {
   "display_name": "kale",
   "language": "python",
   "name": "pyenv_kale"
  },
  "language_info": {
   "codemirror_mode": {
    "name": "ipython",
    "version": 3
   },
   "file_extension": ".py",
   "mimetype": "text/x-python",
   "name": "python",
   "nbconvert_exporter": "python",
   "pygments_lexer": "ipython3",
   "version": "3.11.0"
  },
  "vscode": {
   "interpreter": {
    "hash": "ebd63b96796195b8484c56a28d0ea41b67d5b22be7c83ff5c7ced0e2ede413f2"
   }
  }
 },
 "nbformat": 4,
 "nbformat_minor": 5
}
