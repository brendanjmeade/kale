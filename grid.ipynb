{
 "cells": [
  {
   "cell_type": "code",
   "execution_count": null,
   "id": "b6770daf-3b35-47d7-9bac-675e53d1f375",
   "metadata": {},
   "outputs": [],
   "source": [
    "import pyvista as pv"
   ]
  },
  {
   "cell_type": "code",
   "execution_count": null,
   "id": "df3edef1-c34c-413e-bee0-44d9f4178c2d",
   "metadata": {},
   "outputs": [],
   "source": [
    "MESH_Z_SCALE = 0.01\n",
    "PATH = \"2022_11_30_11_52_49_mesh_geometry.vtk\""
   ]
  },
  {
   "cell_type": "code",
   "execution_count": null,
   "id": "2863647b-9dc3-43ff-a6d4-49f7f807b923",
   "metadata": {},
   "outputs": [],
   "source": [
    "mesh = pv.read(PATH)\n",
    "mesh.clear_data()  # clears any field data\n",
    "mesh.points[:, -1] *= MESH_Z_SCALE"
   ]
  },
  {
   "cell_type": "code",
   "execution_count": null,
   "id": "6be65f21-2ead-4b92-83eb-9fe648f467a6",
   "metadata": {},
   "outputs": [],
   "source": [
    "mesh.bounds"
   ]
  },
  {
   "cell_type": "code",
   "execution_count": null,
   "id": "171ea1b4-cccb-496d-92e4-50f34cf37e79",
   "metadata": {},
   "outputs": [],
   "source": [
    "corners = mesh.outline_corners()\n",
    "\n",
    "p = pv.Plotter()\n",
    "p.add_mesh(mesh)\n",
    "p.add_mesh(corners, color='k')\n",
    "p.show()"
   ]
  },
  {
   "cell_type": "code",
   "execution_count": null,
   "id": "92d0bb8c-71fd-41a0-8845-ed4b85cb5d5b",
   "metadata": {},
   "outputs": [],
   "source": [
    "bounds = mesh.outline()\n",
    "\n",
    "p = pv.Plotter()\n",
    "p.add_mesh(mesh)\n",
    "p.add_mesh(bounds, color='k')\n",
    "p.show()"
   ]
  },
  {
   "cell_type": "code",
   "execution_count": null,
   "id": "5cf40548-cfb3-45f2-a278-29cc22312247",
   "metadata": {},
   "outputs": [],
   "source": [
    "box = pv.Box(mesh.bounds)\n",
    "\n",
    "p = pv.Plotter()\n",
    "p.add_mesh(mesh)\n",
    "p.add_mesh(box, color='grey', culling='front')\n",
    "p.show()"
   ]
  },
  {
   "cell_type": "code",
   "execution_count": null,
   "id": "4902566c-dfc5-4630-a816-6198cab453b0",
   "metadata": {},
   "outputs": [],
   "source": [
    "p = pv.Plotter()\n",
    "p.add_mesh(mesh)\n",
    "p.add_floor('-z', show_edges=True)\n",
    "p.add_floor('-x', show_edges=True, j_resolution=3, i_resolution=3)\n",
    "p.add_floor('-y', show_edges=True)\n",
    "p.show()"
   ]
  },
  {
   "cell_type": "code",
   "execution_count": null,
   "id": "8b15423d-00b7-4826-9dfb-e365d0abc53e",
   "metadata": {},
   "outputs": [],
   "source": []
  }
 ],
 "metadata": {
  "kernelspec": {
   "display_name": "Python 3 (ipykernel)",
   "language": "python",
   "name": "python3"
  },
  "language_info": {
   "codemirror_mode": {
    "name": "ipython",
    "version": 3
   },
   "file_extension": ".py",
   "mimetype": "text/x-python",
   "name": "python",
   "nbconvert_exporter": "python",
   "pygments_lexer": "ipython3",
   "version": "3.9.13"
  }
 },
 "nbformat": 4,
 "nbformat_minor": 5
}
