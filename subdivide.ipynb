{
 "cells": [
  {
   "cell_type": "code",
   "execution_count": 1,
   "id": "19a91c60-ffd0-476f-b39f-dcee5d558ba8",
   "metadata": {},
   "outputs": [],
   "source": [
    "import pyvista as pv\n",
    "import os"
   ]
  },
  {
   "cell_type": "code",
   "execution_count": 2,
   "id": "e3ed5dd7-b450-4575-a071-7e7f33be7840",
   "metadata": {},
   "outputs": [],
   "source": [
    "MESH_Z_SCALE = 0.01\n",
    "PATH = '2022_11_30_11_52_49_mesh_geometry.vtk'\n",
    "OUT_PATH = f'{os.path.splitext(os.path.basename(PATH))[0]}.msh'"
   ]
  },
  {
   "cell_type": "markdown",
   "id": "afbc165d-67d2-43fb-a0c6-62aff8a7daaf",
   "metadata": {},
   "source": [
    "## Load source mesh"
   ]
  },
  {
   "cell_type": "code",
   "execution_count": 3,
   "id": "83d435c1-b375-4cdc-906e-cb0f39baa101",
   "metadata": {},
   "outputs": [
    {
     "data": {
      "text/html": [
       "\n",
       "<table>\n",
       "<tr><th>UnstructuredGrid</th><th>Information</th></tr>\n",
       "<tr><td>N Cells</td><td>1841</td></tr>\n",
       "<tr><td>N Points</td><td>1916</td></tr>\n",
       "<tr><td>X Bounds</td><td>2.318e+02, 2.382e+02</td></tr>\n",
       "<tr><td>Y Bounds</td><td>3.943e+01, 5.107e+01</td></tr>\n",
       "<tr><td>Z Bounds</td><td>-7.000e+01, 0.000e+00</td></tr>\n",
       "<tr><td>N Arrays</td><td>0</td></tr>\n",
       "</table>\n",
       "\n"
      ],
      "text/plain": [
       "UnstructuredGrid (0x15efef640)\n",
       "  N Cells:    1841\n",
       "  N Points:   1916\n",
       "  X Bounds:   2.318e+02, 2.382e+02\n",
       "  Y Bounds:   3.943e+01, 5.107e+01\n",
       "  Z Bounds:   -7.000e+01, 0.000e+00\n",
       "  N Arrays:   0"
      ]
     },
     "execution_count": 3,
     "metadata": {},
     "output_type": "execute_result"
    }
   ],
   "source": [
    "mesh = pv.read(PATH)\n",
    "mesh.clear_data()  # clears any field data\n",
    "mesh"
   ]
  },
  {
   "cell_type": "code",
   "execution_count": 4,
   "id": "e58342ab-738f-45f2-ad52-bb55b98a120c",
   "metadata": {},
   "outputs": [
    {
     "data": {
      "text/html": [
       "<table><tr><th>Header</th><th>Data Arrays</th></tr><tr><td>\n",
       "<table>\n",
       "<tr><th>PolyData</th><th>Information</th></tr>\n",
       "<tr><td>N Cells</td><td>1841</td></tr>\n",
       "<tr><td>N Points</td><td>993</td></tr>\n",
       "<tr><td>N Strips</td><td>0</td></tr>\n",
       "<tr><td>X Bounds</td><td>2.318e+02, 2.382e+02</td></tr>\n",
       "<tr><td>Y Bounds</td><td>3.943e+01, 5.107e+01</td></tr>\n",
       "<tr><td>Z Bounds</td><td>-7.000e+01, 0.000e+00</td></tr>\n",
       "<tr><td>N Arrays</td><td>2</td></tr>\n",
       "</table>\n",
       "\n",
       "</td><td>\n",
       "<table>\n",
       "<tr><th>Name</th><th>Field</th><th>Type</th><th>N Comp</th><th>Min</th><th>Max</th></tr>\n",
       "<tr><td>vtkOriginalPointIds</td><td>Points</td><td>int64</td><td>1</td><td>0.000e+00</td><td>1.915e+03</td></tr>\n",
       "<tr><td>vtkOriginalCellIds</td><td>Cells</td><td>int64</td><td>1</td><td>0.000e+00</td><td>1.840e+03</td></tr>\n",
       "</table>\n",
       "\n",
       "</td></tr> </table>"
      ],
      "text/plain": [
       "PolyData (0x15efef5e0)\n",
       "  N Cells:    1841\n",
       "  N Points:   993\n",
       "  N Strips:   0\n",
       "  X Bounds:   2.318e+02, 2.382e+02\n",
       "  Y Bounds:   3.943e+01, 5.107e+01\n",
       "  Z Bounds:   -7.000e+01, 0.000e+00\n",
       "  N Arrays:   2"
      ]
     },
     "execution_count": 4,
     "metadata": {},
     "output_type": "execute_result"
    }
   ],
   "source": [
    "# Extract surface geometry \n",
    "surface = mesh.extract_surface()\n",
    "\n",
    "# Make sure we didn't loose cells\n",
    "assert mesh.n_cells == surface.n_cells\n",
    "\n",
    "surface"
   ]
  },
  {
   "cell_type": "markdown",
   "id": "3cd97123-1952-42f3-850d-46cd89953d15",
   "metadata": {},
   "source": [
    "### Display source mesh"
   ]
  },
  {
   "cell_type": "code",
   "execution_count": 5,
   "id": "1349935d-2220-4f6e-891f-03619571f90e",
   "metadata": {},
   "outputs": [
    {
     "data": {
      "application/vnd.jupyter.widget-view+json": {
       "model_id": "aa913ba9041846cdb1fa3625bc5d2f9b",
       "version_major": 2,
       "version_minor": 0
      },
      "text/plain": [
       "Widget(value=\"<iframe src='http://localhost:61908/index.html?ui=P_0x15f04b050_0&reconnect=auto' style='width: …"
      ]
     },
     "metadata": {},
     "output_type": "display_data"
    }
   ],
   "source": [
    "pl = pv.Plotter()\n",
    "pl.add_mesh(surface, show_edges=True)\n",
    "pl.set_scale(zscale=MESH_Z_SCALE)\n",
    "pl.show()"
   ]
  },
  {
   "cell_type": "markdown",
   "id": "26087e61-3b1a-442b-9edf-1bf97ea12443",
   "metadata": {},
   "source": [
    "## Subdivision\n",
    "\n",
    "Use PyVista's subdivision filter: https://docs.pyvista.org/api/core/_autosummary/pyvista.PolyDataFilters.subdivide.html#subdivide"
   ]
  },
  {
   "cell_type": "code",
   "execution_count": 6,
   "id": "1d1dc9d4-3533-41bb-baeb-5045f6149aca",
   "metadata": {},
   "outputs": [],
   "source": [
    "# Set the number of subdivisions\n",
    "N_SUB = 3"
   ]
  },
  {
   "cell_type": "code",
   "execution_count": 7,
   "id": "77a18435-f5a8-43be-9fe5-29daf3dc9ee1",
   "metadata": {},
   "outputs": [
    {
     "name": "stderr",
     "output_type": "stream",
     "text": [
      "Subdividing Mesh: 100%|██████████[00:00<00:00]\n"
     ]
    },
    {
     "data": {
      "text/html": [
       "<table><tr><th>Header</th><th>Data Arrays</th></tr><tr><td>\n",
       "<table>\n",
       "<tr><th>PolyData</th><th>Information</th></tr>\n",
       "<tr><td>N Cells</td><td>117824</td></tr>\n",
       "<tr><td>N Points</td><td>59485</td></tr>\n",
       "<tr><td>N Strips</td><td>0</td></tr>\n",
       "<tr><td>X Bounds</td><td>2.318e+02, 2.382e+02</td></tr>\n",
       "<tr><td>Y Bounds</td><td>3.943e+01, 5.107e+01</td></tr>\n",
       "<tr><td>Z Bounds</td><td>-7.000e+01, 0.000e+00</td></tr>\n",
       "<tr><td>N Arrays</td><td>2</td></tr>\n",
       "</table>\n",
       "\n",
       "</td><td>\n",
       "<table>\n",
       "<tr><th>Name</th><th>Field</th><th>Type</th><th>N Comp</th><th>Min</th><th>Max</th></tr>\n",
       "<tr><td>vtkOriginalPointIds</td><td>Points</td><td>int64</td><td>1</td><td>0.000e+00</td><td>1.915e+03</td></tr>\n",
       "<tr><td>vtkOriginalCellIds</td><td>Cells</td><td>int64</td><td>1</td><td>0.000e+00</td><td>1.840e+03</td></tr>\n",
       "</table>\n",
       "\n",
       "</td></tr> </table>"
      ],
      "text/plain": [
       "PolyData (0x161a99c60)\n",
       "  N Cells:    117824\n",
       "  N Points:   59485\n",
       "  N Strips:   0\n",
       "  X Bounds:   2.318e+02, 2.382e+02\n",
       "  Y Bounds:   3.943e+01, 5.107e+01\n",
       "  Z Bounds:   -7.000e+01, 0.000e+00\n",
       "  N Arrays:   2"
      ]
     },
     "execution_count": 7,
     "metadata": {},
     "output_type": "execute_result"
    }
   ],
   "source": [
    "sub = surface.subdivide(\n",
    "    nsub=N_SUB,           # Number of subdivisions\n",
    "    subfilter='linear',   # Subdividing algorithm\n",
    "    progress_bar=True,    # Monitor progress for larger meshes\n",
    ")\n",
    "sub"
   ]
  },
  {
   "cell_type": "code",
   "execution_count": 8,
   "id": "65980fa8-4ed1-4488-bbec-399a105710d8",
   "metadata": {},
   "outputs": [
    {
     "data": {
      "application/vnd.jupyter.widget-view+json": {
       "model_id": "04f44d95849a41bfb4ebc7581d9fe1a2",
       "version_major": 2,
       "version_minor": 0
      },
      "text/plain": [
       "Widget(value=\"<iframe src='http://localhost:61908/index.html?ui=P_0x161a23190_1&reconnect=auto' style='width: …"
      ]
     },
     "metadata": {},
     "output_type": "display_data"
    }
   ],
   "source": [
    "pl = pv.Plotter()\n",
    "pl.add_mesh(sub, show_edges=True)\n",
    "pl.set_scale(zscale=MESH_Z_SCALE)\n",
    "pl.show()"
   ]
  },
  {
   "cell_type": "markdown",
   "id": "520a5fa5-c598-42a3-aef8-673bd38593f9",
   "metadata": {},
   "source": [
    "## Save out to `.msh`"
   ]
  },
  {
   "cell_type": "code",
   "execution_count": 9,
   "id": "43508690-7960-4ebe-b545-9ba3a847f6d1",
   "metadata": {},
   "outputs": [
    {
     "data": {
      "text/plain": [
       "'2022_11_30_11_52_49_mesh_geometry.msh'"
      ]
     },
     "execution_count": 9,
     "metadata": {},
     "output_type": "execute_result"
    }
   ],
   "source": [
    "pv.save_meshio(OUT_PATH, sub)\n",
    "OUT_PATH"
   ]
  },
  {
   "cell_type": "markdown",
   "id": "eac07d8d-6ede-4402-bbf3-deaaa53c5c5e",
   "metadata": {},
   "source": [
    "## Comparison of Subdivisions"
   ]
  },
  {
   "cell_type": "code",
   "execution_count": 10,
   "id": "f0387871-450c-4756-b32c-9bf30ef08564",
   "metadata": {},
   "outputs": [
    {
     "name": "stderr",
     "output_type": "stream",
     "text": [
      "Subdividing Mesh: 100%|██████████[00:00<00:00]\n",
      "Subdividing Mesh: 100%|██████████[00:00<00:00]\n",
      "Subdividing Mesh: 100%|██████████[00:00<00:00]\n"
     ]
    },
    {
     "data": {
      "application/vnd.jupyter.widget-view+json": {
       "model_id": "78b5319e451e48b9b556cd5fb0856c47",
       "version_major": 2,
       "version_minor": 0
      },
      "text/plain": [
       "Widget(value=\"<iframe src='http://localhost:61908/index.html?ui=P_0x17cd28950_2&reconnect=auto' style='width: …"
      ]
     },
     "metadata": {},
     "output_type": "display_data"
    }
   ],
   "source": [
    "pl = pv.Plotter(shape=(2, 3))\n",
    "for i, method in enumerate(['linear', 'butterfly', 'loop']):\n",
    "    submethod = surface.subdivide(\n",
    "        nsub=N_SUB,           # Number of subdivisions\n",
    "        subfilter=method,     # Subdividing algorithm\n",
    "        progress_bar=True,    # Monitor progress for larger meshes\n",
    "    )\n",
    "    # Compute a cell quality metric to make visual comparison easier\n",
    "    qual = submethod.compute_cell_quality('area')\n",
    "    \n",
    "    pl.subplot(0, i)\n",
    "    pl.add_text(method)\n",
    "    pl.add_mesh(qual, show_edges=False, show_scalar_bar=False)\n",
    "    pl.set_scale(zscale=MESH_Z_SCALE)\n",
    "    \n",
    "    pl.subplot(1, i)\n",
    "    pl.add_mesh(submethod, show_edges=True)\n",
    "    pl.set_scale(zscale=MESH_Z_SCALE)\n",
    "    \n",
    "    \n",
    "    \n",
    "pl.link_views()\n",
    "pl.show()"
   ]
  },
  {
   "cell_type": "code",
   "execution_count": null,
   "id": "6dc9f1f8-3908-4560-92a6-f7302f8a304c",
   "metadata": {},
   "outputs": [],
   "source": []
  }
 ],
 "metadata": {
  "kernelspec": {
   "display_name": "kale",
   "language": "python",
   "name": "python3"
  },
  "language_info": {
   "codemirror_mode": {
    "name": "ipython",
    "version": 3
   },
   "file_extension": ".py",
   "mimetype": "text/x-python",
   "name": "python",
   "nbconvert_exporter": "python",
   "pygments_lexer": "ipython3",
   "version": "3.11.0"
  },
  "vscode": {
   "interpreter": {
    "hash": "ebd63b96796195b8484c56a28d0ea41b67d5b22be7c83ff5c7ced0e2ede413f2"
   }
  }
 },
 "nbformat": 4,
 "nbformat_minor": 5
}
