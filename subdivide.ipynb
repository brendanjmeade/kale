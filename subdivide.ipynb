{
 "cells": [
  {
   "cell_type": "code",
   "execution_count": null,
   "id": "19a91c60-ffd0-476f-b39f-dcee5d558ba8",
   "metadata": {},
   "outputs": [],
   "source": [
    "import pyvista as pv\n",
    "import os"
   ]
  },
  {
   "cell_type": "code",
   "execution_count": null,
   "id": "e3ed5dd7-b450-4575-a071-7e7f33be7840",
   "metadata": {},
   "outputs": [],
   "source": [
    "MESH_Z_SCALE = 0.01\n",
    "PATH = \"2022_11_30_11_52_49_mesh_geometry.vtk\"\n",
    "OUT_PATH = f\"{os.path.splitext(os.path.basename(PATH))[0]}.msh\""
   ]
  },
  {
   "cell_type": "markdown",
   "id": "afbc165d-67d2-43fb-a0c6-62aff8a7daaf",
   "metadata": {},
   "source": [
    "## Load source mesh"
   ]
  },
  {
   "cell_type": "code",
   "execution_count": null,
   "id": "83d435c1-b375-4cdc-906e-cb0f39baa101",
   "metadata": {},
   "outputs": [],
   "source": [
    "mesh = pv.read(PATH)\n",
    "mesh.clear_data()  # clears any field data\n",
    "mesh"
   ]
  },
  {
   "cell_type": "code",
   "execution_count": null,
   "id": "e58342ab-738f-45f2-ad52-bb55b98a120c",
   "metadata": {},
   "outputs": [],
   "source": [
    "# Extract surface geometry\n",
    "surface = mesh.extract_surface()\n",
    "\n",
    "# Make sure we didn't loose cells\n",
    "assert mesh.n_cells == surface.n_cells\n",
    "\n",
    "surface"
   ]
  },
  {
   "cell_type": "markdown",
   "id": "3cd97123-1952-42f3-850d-46cd89953d15",
   "metadata": {},
   "source": [
    "### Display source mesh"
   ]
  },
  {
   "cell_type": "code",
   "execution_count": null,
   "id": "1349935d-2220-4f6e-891f-03619571f90e",
   "metadata": {},
   "outputs": [],
   "source": [
    "pl = pv.Plotter()\n",
    "pl.add_mesh(surface, show_edges=True)\n",
    "pl.set_scale(zscale=MESH_Z_SCALE)\n",
    "pl.show()"
   ]
  },
  {
   "cell_type": "markdown",
   "id": "26087e61-3b1a-442b-9edf-1bf97ea12443",
   "metadata": {},
   "source": [
    "## Subdivision\n",
    "\n",
    "Use PyVista's subdivision filter: https://docs.pyvista.org/api/core/_autosummary/pyvista.PolyDataFilters.subdivide.html#subdivide"
   ]
  },
  {
   "cell_type": "code",
   "execution_count": null,
   "id": "1d1dc9d4-3533-41bb-baeb-5045f6149aca",
   "metadata": {},
   "outputs": [],
   "source": [
    "# Set the number of subdivisions\n",
    "N_SUB = 3"
   ]
  },
  {
   "cell_type": "code",
   "execution_count": null,
   "id": "77a18435-f5a8-43be-9fe5-29daf3dc9ee1",
   "metadata": {},
   "outputs": [],
   "source": [
    "sub = surface.subdivide(\n",
    "    nsub=N_SUB,  # Number of subdivisions\n",
    "    subfilter=\"linear\",  # Subdividing algorithm\n",
    "    progress_bar=True,  # Monitor progress for larger meshes\n",
    ")\n",
    "sub"
   ]
  },
  {
   "cell_type": "code",
   "execution_count": null,
   "id": "65980fa8-4ed1-4488-bbec-399a105710d8",
   "metadata": {},
   "outputs": [],
   "source": [
    "pl = pv.Plotter()\n",
    "pl.add_mesh(sub, show_edges=True)\n",
    "pl.set_scale(zscale=MESH_Z_SCALE)\n",
    "pl.show()"
   ]
  },
  {
   "cell_type": "markdown",
   "id": "520a5fa5-c598-42a3-aef8-673bd38593f9",
   "metadata": {},
   "source": [
    "## Save out to `.msh`"
   ]
  },
  {
   "cell_type": "code",
   "execution_count": null,
   "id": "43508690-7960-4ebe-b545-9ba3a847f6d1",
   "metadata": {},
   "outputs": [],
   "source": [
    "pv.save_meshio(OUT_PATH, sub)\n",
    "OUT_PATH"
   ]
  },
  {
   "cell_type": "markdown",
   "id": "eac07d8d-6ede-4402-bbf3-deaaa53c5c5e",
   "metadata": {},
   "source": [
    "## Comparison of Subdivisions"
   ]
  },
  {
   "cell_type": "code",
   "execution_count": null,
   "id": "f0387871-450c-4756-b32c-9bf30ef08564",
   "metadata": {},
   "outputs": [],
   "source": [
    "pl = pv.Plotter(shape=(2, 3))\n",
    "for i, method in enumerate([\"linear\", \"butterfly\", \"loop\"]):\n",
    "    submethod = surface.subdivide(\n",
    "        nsub=N_SUB,  # Number of subdivisions\n",
    "        subfilter=method,  # Subdividing algorithm\n",
    "        progress_bar=True,  # Monitor progress for larger meshes\n",
    "    )\n",
    "    # Compute a cell quality metric to make visual comparison easier\n",
    "    qual = submethod.compute_cell_quality(\"area\")\n",
    "\n",
    "    pl.subplot(0, i)\n",
    "    pl.add_text(method)\n",
    "    pl.add_mesh(qual, show_edges=False, show_scalar_bar=False)\n",
    "    pl.set_scale(zscale=MESH_Z_SCALE)\n",
    "\n",
    "    pl.subplot(1, i)\n",
    "    pl.add_mesh(submethod, show_edges=True)\n",
    "    pl.set_scale(zscale=MESH_Z_SCALE)\n",
    "\n",
    "\n",
    "pl.link_views()\n",
    "pl.show()"
   ]
  },
  {
   "cell_type": "code",
   "execution_count": null,
   "id": "6dc9f1f8-3908-4560-92a6-f7302f8a304c",
   "metadata": {},
   "outputs": [],
   "source": []
  }
 ],
 "metadata": {
  "kernelspec": {
   "display_name": "Python 3 (ipykernel)",
   "language": "python",
   "name": "python3"
  },
  "language_info": {
   "codemirror_mode": {
    "name": "ipython",
    "version": 3
   },
   "file_extension": ".py",
   "mimetype": "text/x-python",
   "name": "python",
   "nbconvert_exporter": "python",
   "pygments_lexer": "ipython3",
   "version": "3.9.13"
  },
  "vscode": {
   "interpreter": {
    "hash": "ebd63b96796195b8484c56a28d0ea41b67d5b22be7c83ff5c7ced0e2ede413f2"
   }
  }
 },
 "nbformat": 4,
 "nbformat_minor": 5
}
