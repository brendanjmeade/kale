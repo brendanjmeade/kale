{
 "cells": [
  {
   "cell_type": "code",
   "execution_count": 1,
   "id": "09b0384f-8336-4975-bdc3-8ece67c97801",
   "metadata": {},
   "outputs": [],
   "source": [
    "import numpy as np\n",
    "import pyvista as pv\n",
    "from tqdm import tqdm\n",
    "\n",
    "from kale import Engine, save_movie, show_ui\n",
    "from kale.algorithms import (\n",
    "    contour_banded,\n",
    "    subdivide_algorithm,\n",
    "    scalars_operation_algorithm,\n",
    ")"
   ]
  },
  {
   "cell_type": "code",
   "execution_count": 2,
   "id": "dadac17f-ce1f-4d25-b98f-7c6059c8c82b",
   "metadata": {},
   "outputs": [],
   "source": [
    "# Requires PyVista 0.38.1\n",
    "pv.set_jupyter_backend(\"server\")\n",
    "pv.global_theme.trame.interactive_ratio = 2\n",
    "pv.global_theme.trame.still_ratio = 2\n",
    "pv.global_theme.image_scale = 2  # upscales the saved screenshots/video frames"
   ]
  },
  {
   "cell_type": "code",
   "execution_count": 3,
   "id": "af5dc4a5",
   "metadata": {},
   "outputs": [],
   "source": [
    "# MESH_GEOMETRY_FILE_NAME = \"nankai_very_very_dense.vtk\"\n",
    "MESH_GEOMETRY_FILE_NAME = \"nankai_121728_clean.vtk\"\n",
    "MESH_VALUES_FILE_NAME = \"2023_03_03_16_15_24.hdf\"\n",
    "MESH_Z_SCALE = 0.01\n",
    "TIME_STEP_INTERESTING = 55849\n",
    "TIME_STEP_INTERESTING = 1000\n",
    "\n",
    "LINE_WIDTH = 1\n",
    "CONTOUR_LINE_COLOR = \"black\"\n",
    "COLOR_MAPS = {\n",
    "    \"cumulative_slip\": \"CET_L19\",  #'CET_C3',\n",
    "    \"geometric_moment\": \"CET_R3\",\n",
    "    \"last_event_slip\": \"CET_L19\",\n",
    "    \"loading_rate\": \"CET_C3\",\n",
    "}\n",
    "\n",
    "# TODO: The same fontsizes seem to produce different sized fonts on the figure\n",
    "# I'd like all fonts to be the same size and type\n",
    "COLORBAR_FONT_SIZE = 34\n",
    "AXES_FONT_SIZE = 26\n",
    "TIMESTEP_FONT_SIZE = 12\n",
    "\n",
    "SCALAR_BAR_OPTS = dict(\n",
    "    # Position (coordinates are on the viewport)\n",
    "    vertical=True,\n",
    "    height=0.20,\n",
    "    width=0.05,\n",
    "    position_x=0.05,\n",
    "    position_y=0.40,\n",
    "    # Labels\n",
    "    title_font_size=AXES_FONT_SIZE,\n",
    "    label_font_size=AXES_FONT_SIZE,\n",
    "    n_labels=3,\n",
    "    italic=False,\n",
    "    fmt=\"%.1f\",\n",
    "    font_family=\"arial\",\n",
    "    shadow=True,\n",
    ")"
   ]
  },
  {
   "cell_type": "markdown",
   "id": "7006c845-e077-44c6-9a6c-4042fb3ef2b6",
   "metadata": {},
   "source": [
    "## Load Data\n",
    "\n",
    "Set up the driver of the data IO and time step management with the `kale.Engine` class"
   ]
  },
  {
   "cell_type": "code",
   "execution_count": 4,
   "id": "421cec74-5b16-4b3c-95b1-f896ca93e3c7",
   "metadata": {},
   "outputs": [
    {
     "data": {
      "text/plain": [
       "['cumulative_slip', 'geometric_moment', 'last_event_slip', 'loading_rate']"
      ]
     },
     "execution_count": 4,
     "metadata": {},
     "output_type": "execute_result"
    }
   ],
   "source": [
    "engine = Engine(MESH_GEOMETRY_FILE_NAME, MESH_VALUES_FILE_NAME, zscale=MESH_Z_SCALE)\n",
    "engine.keys"
   ]
  },
  {
   "cell_type": "code",
   "execution_count": 5,
   "id": "f5b91e73-30b6-4684-b14d-4e25552b607a",
   "metadata": {
    "tags": []
   },
   "outputs": [],
   "source": [
    "# Set which array to be active\n",
    "engine.mesh.active_scalars_name = \"geometric_moment\"\n",
    "engine.time_step = TIME_STEP_INTERESTING"
   ]
  },
  {
   "cell_type": "code",
   "execution_count": 6,
   "id": "5afd42fe-5859-437f-9c55-ef3960534af8",
   "metadata": {},
   "outputs": [],
   "source": [
    "cpos = [\n",
    "    (246.72654935831832, 56.640050977986135, 19.47264855846906),\n",
    "    (235.64372937685064, 45.67443514953468, -0.9481135945038834),\n",
    "    (-0.6591979033815945, -0.45237409343002455, 0.6006794517633125),\n",
    "]\n"
   ]
  },
  {
   "cell_type": "markdown",
   "id": "035801ec-794d-4311-8e94-bf8857973403",
   "metadata": {
    "tags": []
   },
   "source": [
    "## Plot with time controls"
   ]
  },
  {
   "cell_type": "code",
   "execution_count": 7,
   "id": "2900cc88-69e4-410f-a27a-c5d2f6b3dc99",
   "metadata": {},
   "outputs": [
    {
     "data": {
      "application/vnd.jupyter.widget-view+json": {
       "model_id": "389d714fc7044afda7b2f55dfadaa811",
       "version_major": 2,
       "version_minor": 0
      },
      "text/plain": [
       "VBox(children=(Widget(value=\"<iframe src='http://localhost:49249/index.html?ui=P_0x281be1a10_0&reconnect=auto'…"
      ]
     },
     "metadata": {},
     "output_type": "display_data"
    }
   ],
   "source": [
    "pl = pv.Plotter()\n",
    "pl.add_mesh(\n",
    "    engine.algorithm,\n",
    "    cmap=COLOR_MAPS[engine.mesh.active_scalars_name],\n",
    "    clim=engine.clim(),\n",
    "    scalar_bar_args=SCALAR_BAR_OPTS,\n",
    ")\n",
    "pl.add_mesh(engine.boundary, color=CONTOUR_LINE_COLOR, line_width=LINE_WIDTH)\n",
    "# pl.camera_position = cpos\n",
    "show_ui(engine, pl)"
   ]
  },
  {
   "cell_type": "code",
   "execution_count": null,
   "id": "92c12cae-d608-4183-8d7d-83a851410ed5",
   "metadata": {},
   "outputs": [],
   "source": [
    "# Run cell to fetch current position\n",
    "pl.camera_position"
   ]
  },
  {
   "cell_type": "markdown",
   "id": "4119771a-cccf-496f-b6ce-77adbca417fc",
   "metadata": {
    "tags": []
   },
   "source": [
    "## Banded Contouring"
   ]
  },
  {
   "cell_type": "code",
   "execution_count": 8,
   "id": "e9899886",
   "metadata": {},
   "outputs": [
    {
     "data": {
      "application/vnd.jupyter.widget-view+json": {
       "model_id": "6c3b542ab37840c49d699f3e210a5b3e",
       "version_major": 2,
       "version_minor": 0
      },
      "text/plain": [
       "VBox(children=(Widget(value=\"<iframe src='http://localhost:49249/index.html?ui=P_0x2820549d0_1&reconnect=auto'…"
      ]
     },
     "metadata": {},
     "output_type": "display_data"
    }
   ],
   "source": [
    "# TODO: How do I maniputlate the quantity geometic moment here?\n",
    "# There's a lot of experimenting to do in order to see the best way to plot things.\n",
    "# For example I might like to take the cube root of this or the log or sigmoid.\n",
    "engine.mesh.active_scalars_name = \"geometric_moment\"\n",
    "\n",
    "# Manipulate the quantity\n",
    "operation = np.cbrt\n",
    "MANIPULATED_ARRAY_NAME = f\"cbrt({engine.mesh.active_scalars_name})\"\n",
    "manipulated = scalars_operation_algorithm(\n",
    "    engine.algorithm, operation, output_scalars_name=MANIPULATED_ARRAY_NAME\n",
    ")\n",
    "\n",
    "# CONTOUR_LEVELS = np.linspace(-10e9, 10e9, 11)\n",
    "CONTOUR_LEVELS = np.linspace(-2500, 2500, 11)\n",
    "N_COLORS = len(CONTOUR_LEVELS) - 1\n",
    "CLIM = [np.min(CONTOUR_LEVELS), np.max(CONTOUR_LEVELS)]\n",
    "\n",
    "contour, edges = contour_banded(\n",
    "    manipulated,\n",
    "    CONTOUR_LEVELS,\n",
    "    rng=CLIM,\n",
    "    scalars=MANIPULATED_ARRAY_NAME,\n",
    ")\n",
    "\n",
    "pl = pv.Plotter()\n",
    "pl.add_mesh(engine.boundary, color=\"k\", line_width=LINE_WIDTH)\n",
    "pl.add_mesh(\n",
    "    contour,\n",
    "    cmap=COLOR_MAPS[engine.mesh.active_scalars_name],\n",
    "    clim=CLIM,\n",
    "    scalars=MANIPULATED_ARRAY_NAME,\n",
    "    n_colors=N_COLORS,\n",
    "    # scalar_bar_args=dict(title=f\"{MANIPULATED_ARRAY_NAME}\", **SCALAR_BAR_OPTS),\n",
    "    scalar_bar_args=dict(title=f\"m\", **SCALAR_BAR_OPTS),\n",
    ")\n",
    "pl.add_mesh(edges.GetOutputPort(1), color=CONTOUR_LINE_COLOR, line_width=LINE_WIDTH)\n",
    "pl.add_text(f\"i = {1:05d}\", name=\"time-step-label\", font_size=TIMESTEP_FONT_SIZE)\n",
    "\n",
    "box = pv.Box(engine.mesh.bounds)\n",
    "pl.add_mesh(box, color=\"lightgrey\", culling=\"front\")\n",
    "# pl.camera_position = cpos\n",
    "pl.camera.zoom(1.2)\n",
    "\n",
    "# Drawing lines as a grid proxy\n",
    "# mesh = pv.Line((0, 0, 0), (0, 0, 1))\n",
    "# mesh.plot(color='k', line_width=10)\n",
    "\n",
    "# Experimenting with lights\n",
    "light = pv.Light((-2, 2, 0), (0, 0, 0), \"white\")\n",
    "pl.add_light(light)\n",
    "show_ui(engine, pl)\n"
   ]
  },
  {
   "cell_type": "markdown",
   "id": "04ed5051-d4b5-4e64-bd03-7a1710faa321",
   "metadata": {
    "jp-MarkdownHeadingCollapsed": true,
    "tags": []
   },
   "source": [
    "### 4-panel view (all variables)\n",
    "\n",
    "This still needs some optimization to make look really nice but here is a start"
   ]
  },
  {
   "cell_type": "code",
   "execution_count": null,
   "id": "9d0b8864-1ba0-4a28-8295-1c29d595ca13",
   "metadata": {},
   "outputs": [],
   "source": [
    "engine.keys"
   ]
  },
  {
   "cell_type": "code",
   "execution_count": null,
   "id": "d11aec0f-19ff-4c87-9206-ff11dfd75081",
   "metadata": {
    "tags": []
   },
   "outputs": [],
   "source": [
    "pl = pv.Plotter(shape=(1, 4), window_size=(1024 * 2, 768))\n",
    "\n",
    "for i, var in enumerate(engine.keys):\n",
    "    pl.subplot(0, i)\n",
    "    contour, edges = contour_banded(\n",
    "        # TODO: set contour levels for each scalar, for now use N\n",
    "        engine.algorithm,\n",
    "        11,\n",
    "        rng=engine.clim(var),\n",
    "        scalars=var,\n",
    "    )\n",
    "    pl.add_mesh(\n",
    "        contour,\n",
    "        cmap=COLOR_MAPS[var],\n",
    "        clim=engine.clim(var),\n",
    "        n_colors=11 - 1,\n",
    "        scalar_bar_args=SCALAR_BAR_OPTS,\n",
    "    )\n",
    "    pl.add_mesh(edges.GetOutputPort(1), color=CONTOUR_LINE_COLOR, line_width=LINE_WIDTH)\n",
    "    pl.add_mesh(engine.boundary, color=CONTOUR_LINE_COLOR, line_width=LINE_WIDTH)\n",
    "\n",
    "pl.link_views()\n",
    "pl.camera_position = cpos\n",
    "show_ui(engine, pl)"
   ]
  },
  {
   "cell_type": "markdown",
   "id": "ec2ac577-a4bf-4bc1-b1c1-60115893b11b",
   "metadata": {
    "tags": []
   },
   "source": [
    "## Save Videos"
   ]
  },
  {
   "cell_type": "code",
   "execution_count": null,
   "id": "e09ff713-6452-4034-b9fd-838808554640",
   "metadata": {},
   "outputs": [],
   "source": [
    "# var = \"cumulative_slip\"\n",
    "var = \"geometric_moment\"\n",
    "\n",
    "pl = pv.Plotter()\n",
    "pl.add_mesh(engine.boundary_smoothed, color=\"k\", line_width=LINE_WIDTH)\n",
    "contour, edges = contour_banded(\n",
    "    engine.algorithm,\n",
    "    CONTOUR_LEVELS,\n",
    "    rng=CLIM,\n",
    "    scalars=var,\n",
    ")\n",
    "pl.add_mesh(\n",
    "    contour,\n",
    "    cmap=COLOR_MAPS[var],\n",
    "    clim=CLIM,\n",
    "    n_colors=N_COLORS,\n",
    "    scalar_bar_args=SCALAR_BAR_OPTS,\n",
    ")\n",
    "pl.add_mesh(edges.GetOutputPort(1), color=CONTOUR_LINE_COLOR, line_width=LINE_WIDTH)\n",
    "pl.add_mesh(engine.boundary, color=CONTOUR_LINE_COLOR, line_width=LINE_WIDTH)\n",
    "\n",
    "pl.camera_position = cpos\n",
    "\n",
    "pl.image_scale = 2\n",
    "# Make a video over time steps\n",
    "# save_movie(engine, plotter, f'{var}.mpg', framerate=24, quality=1)\n",
    "step = 500\n",
    "# step = 1\n",
    "pl.open_movie(f\"{var}.mp4\", framerate=48, quality=5)\n",
    "for tindex in tqdm(range(0, engine.max_time_step, step)):\n",
    "    engine.time_step = tindex\n",
    "    pl.add_text(f\"time step: {tindex:05d}\", name=\"time-step-label\", font_size=18)\n",
    "    pl.write_frame()\n",
    "pl.close()"
   ]
  },
  {
   "attachments": {},
   "cell_type": "markdown",
   "id": "767d2680",
   "metadata": {},
   "source": [
    "# Updated video style"
   ]
  },
  {
   "cell_type": "code",
   "execution_count": 14,
   "id": "e6c1f320",
   "metadata": {},
   "outputs": [
    {
     "name": "stderr",
     "output_type": "stream",
     "text": [
      "100%|██████████| 200/200 [00:28<00:00,  6.93it/s]\n"
     ]
    }
   ],
   "source": [
    "# var = \"cumulative_slip\"\n",
    "var = \"geometric_moment\"\n",
    "\n",
    "engine.mesh.active_scalars_name = \"geometric_moment\"\n",
    "\n",
    "# Manipulate the quantity\n",
    "operation = np.cbrt\n",
    "MANIPULATED_ARRAY_NAME = f\"cbrt({engine.mesh.active_scalars_name})\"\n",
    "manipulated = scalars_operation_algorithm(\n",
    "    engine.algorithm, operation, output_scalars_name=MANIPULATED_ARRAY_NAME\n",
    ")\n",
    "\n",
    "# CONTOUR_LEVELS = np.linspace(-10e9, 10e9, 11)\n",
    "CONTOUR_LEVELS = np.linspace(-500, 500, 11)\n",
    "N_COLORS = len(CONTOUR_LEVELS) - 1\n",
    "CLIM = [np.min(CONTOUR_LEVELS), np.max(CONTOUR_LEVELS)]\n",
    "\n",
    "pl = pv.Plotter()\n",
    "pl.add_mesh(engine.boundary_smoothed, color=\"k\", line_width=LINE_WIDTH)\n",
    "# contour, edges = contour_banded(\n",
    "#     engine.algorithm,\n",
    "#     CONTOUR_LEVELS,\n",
    "#     rng=CLIM,\n",
    "#     scalars=var,\n",
    "# )\n",
    "\n",
    "contour, edges = contour_banded(\n",
    "    manipulated,\n",
    "    CONTOUR_LEVELS,\n",
    "    rng=CLIM,\n",
    "    scalars=MANIPULATED_ARRAY_NAME,\n",
    ")\n",
    "\n",
    "pl.add_mesh(\n",
    "    contour,\n",
    "    cmap=COLOR_MAPS[var],\n",
    "    clim=CLIM,\n",
    "    n_colors=N_COLORS,\n",
    "    # scalar_bar_args=SCALAR_BAR_OPTS,\n",
    "    scalar_bar_args=dict(title=f\"m\", **SCALAR_BAR_OPTS),\n",
    ")\n",
    "pl.add_mesh(edges.GetOutputPort(1), color=CONTOUR_LINE_COLOR, line_width=LINE_WIDTH)\n",
    "pl.add_mesh(engine.boundary, color=CONTOUR_LINE_COLOR, line_width=LINE_WIDTH)\n",
    "\n",
    "box = pv.Box(engine.mesh.bounds)\n",
    "pl.add_mesh(box, color=\"lightgrey\", culling=\"front\")\n",
    "# pl.camera_position = cpos\n",
    "# pl.camera.zoom(1.0)\n",
    "pl.image_scale = 2\n",
    "\n",
    "# Make a video over time steps\n",
    "# save_movie(engine, plotter, f'{var}.mpg', framerate=24, quality=1)\n",
    "step = 100\n",
    "# step = 1\n",
    "pl.open_movie(f\"{var}.mp4\", framerate=60, quality=5)\n",
    "for tindex in tqdm(range(0, engine.max_time_step, step)):\n",
    "    engine.time_step = tindex\n",
    "    pl.add_text(f\"i = {tindex:05d}\", name=\"time-step-label\")\n",
    "    pl.write_frame()\n",
    "pl.close()\n"
   ]
  },
  {
   "cell_type": "code",
   "execution_count": null,
   "id": "593ccac8",
   "metadata": {},
   "outputs": [],
   "source": []
  }
 ],
 "metadata": {
  "kernelspec": {
   "display_name": "Python 3 (ipykernel)",
   "language": "python",
   "name": "python3"
  },
  "language_info": {
   "codemirror_mode": {
    "name": "ipython",
    "version": 3
   },
   "file_extension": ".py",
   "mimetype": "text/x-python",
   "name": "python",
   "nbconvert_exporter": "python",
   "pygments_lexer": "ipython3",
   "version": "3.11.0"
  },
  "vscode": {
   "interpreter": {
    "hash": "ebd63b96796195b8484c56a28d0ea41b67d5b22be7c83ff5c7ced0e2ede413f2"
   }
  }
 },
 "nbformat": 4,
 "nbformat_minor": 5
}
