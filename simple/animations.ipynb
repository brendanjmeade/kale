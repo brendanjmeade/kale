{
 "cells": [
  {
   "cell_type": "markdown",
   "id": "665852fa-7e2f-4e74-9732-b3a9950760cd",
   "metadata": {},
   "source": [
    "Goal: *Generate two separate animations of cumulative slip and geometric moment.*\n",
    "\n",
    "What this notebook does: *Loads data and produces an animation for a single, user-chosen variable as an MP4.*"
   ]
  },
  {
   "cell_type": "code",
   "execution_count": null,
   "id": "f76c371a-4b8f-416a-81cb-a66c0babd0be",
   "metadata": {
    "tags": []
   },
   "outputs": [],
   "source": [
    "import numpy as np\n",
    "import pyvista as pv\n",
    "from tqdm import tqdm\n",
    "\n",
    "from kale import Engine, save_movie, show_ui\n",
    "from kale.algorithms import (\n",
    "    contour_banded,\n",
    "    subdivide_algorithm,\n",
    "    scalars_operation_algorithm,\n",
    ")\n",
    "from kale import theme, helpers"
   ]
  },
  {
   "cell_type": "code",
   "execution_count": null,
   "id": "c7519a36-6dca-4486-b0d0-438f836602c4",
   "metadata": {
    "tags": []
   },
   "outputs": [],
   "source": [
    "# Theming adjustments\n",
    "# pv.global_theme.image_scale = 10"
   ]
  },
  {
   "cell_type": "markdown",
   "id": "edb53270-efae-4033-bf6e-387b830e9237",
   "metadata": {},
   "source": [
    "# Load Data"
   ]
  },
  {
   "cell_type": "code",
   "execution_count": null,
   "id": "87e9c660-8057-4a9d-8b44-9d1290c92928",
   "metadata": {
    "tags": []
   },
   "outputs": [],
   "source": [
    "MESH_GEOMETRY_FILE_NAME = \"2022_11_30_11_52_49_mesh_geometry.vtk\"\n",
    "MESH_VALUES_FILE_NAME = \"2022_11_30_11_52_49.hdf\"\n",
    "MESH_Z_SCALE = 0.01"
   ]
  },
  {
   "cell_type": "code",
   "execution_count": null,
   "id": "de9c71c1-2f92-4ab5-acc0-99c0e4c16105",
   "metadata": {
    "tags": []
   },
   "outputs": [],
   "source": [
    "engine = Engine(MESH_GEOMETRY_FILE_NAME, MESH_VALUES_FILE_NAME, zscale=MESH_Z_SCALE)\n",
    "engine.keys"
   ]
  },
  {
   "cell_type": "markdown",
   "id": "71e5e140-9d20-4298-bf1a-61fbaa259719",
   "metadata": {
    "tags": []
   },
   "source": [
    "# Find Camera Position\n",
    "\n",
    "This is a helper section to find your preferred camera location"
   ]
  },
  {
   "cell_type": "code",
   "execution_count": null,
   "id": "0a98129d-84e4-46b7-b452-57b323301f59",
   "metadata": {
    "tags": []
   },
   "outputs": [],
   "source": [
    "pl = pv.Plotter()\n",
    "pl.add_mesh(engine.mesh, color=\"beige\")\n",
    "pl.show()"
   ]
  },
  {
   "cell_type": "code",
   "execution_count": null,
   "id": "410dfe14-f1f9-442d-a508-929d21d687c6",
   "metadata": {
    "tags": []
   },
   "outputs": [],
   "source": [
    "# copy value of this output into next cell after moving scene above\n",
    "pl.camera_position"
   ]
  },
  {
   "cell_type": "code",
   "execution_count": null,
   "id": "6af02074-ca43-4c85-8a2b-c80d9e15fe82",
   "metadata": {
    "tags": []
   },
   "outputs": [],
   "source": [
    "# set the camera position (different for different datasets)\n",
    "cpos = [\n",
    "    (246.72654935831832, 56.640050977986135, 19.47264855846906),\n",
    "    (235.64372937685064, 45.67443514953468, -0.9481135945038834),\n",
    "    (-0.6591979033815945, -0.45237409343002455, 0.6006794517633125),\n",
    "]"
   ]
  },
  {
   "cell_type": "markdown",
   "id": "06b5f88b-5879-4ebe-a868-00150de06c86",
   "metadata": {},
   "source": [
    "# Choosing data array\n",
    "\n",
    "The following cell is where you can control which variable is being plotted:"
   ]
  },
  {
   "cell_type": "code",
   "execution_count": null,
   "id": "11eaac2a-253a-468a-923e-9258f731300b",
   "metadata": {
    "tags": []
   },
   "outputs": [],
   "source": [
    "engine.mesh.active_scalars_name = \"geometric_moment\""
   ]
  },
  {
   "cell_type": "markdown",
   "id": "5eec1b5f-7614-4500-ae57-55a65616bf44",
   "metadata": {
    "tags": []
   },
   "source": [
    "# Visualize\n",
    "\n",
    "This cell will not produce an output, but instead renders off-screen to create screenshots."
   ]
  },
  {
   "cell_type": "code",
   "execution_count": null,
   "id": "45228c3e-65f7-41ca-83e7-7a29227adb5d",
   "metadata": {
    "tags": []
   },
   "outputs": [],
   "source": [
    "# Set contour levels\n",
    "# CONTOUR_LEVELS = np.linspace(-10e9, 10e9, 11)\n",
    "CONTOUR_LEVELS = np.linspace(-2500, 2500, 11)\n",
    "N_COLORS = len(CONTOUR_LEVELS) - 1\n",
    "CLIM = [np.min(CONTOUR_LEVELS), np.max(CONTOUR_LEVELS)]\n",
    "\n",
    "contour, edges = contour_banded(\n",
    "    engine.algorithm,\n",
    "    CONTOUR_LEVELS,\n",
    "    rng=CLIM,\n",
    "    scalars=engine.mesh.active_scalars_name,\n",
    ")"
   ]
  },
  {
   "cell_type": "code",
   "execution_count": null,
   "id": "e49edc07-86cc-42d9-b040-10e12f623100",
   "metadata": {
    "tags": []
   },
   "outputs": [],
   "source": [
    "#### Plotting code ####\n",
    "pl = pv.Plotter()\n",
    "pl.add_mesh(engine.boundary)\n",
    "pl.add_mesh(\n",
    "    contour,\n",
    "    cmap=theme.COLOR_MAPS[engine.mesh.active_scalars_name],\n",
    "    clim=CLIM,\n",
    "    scalars=engine.mesh.active_scalars_name,\n",
    "    n_colors=N_COLORS,\n",
    "    show_scalar_bar=True,\n",
    "    scalar_bar_args=dict(**theme.SCALAR_BAR_OPTS),\n",
    ")\n",
    "pl.add_mesh(edges)\n",
    "\n",
    "# box = pv.Box(engine.mesh.bounds)\n",
    "# pl.add_mesh(box, color=\"lightgrey\", culling=\"front\")\n",
    "pl.add_floor(\"-z\", show_edges=True, edge_color=\"white\", color=\"lightgray\")\n",
    "helpers.add_bounds(pl)\n",
    "\n",
    "\n",
    "# Use camera position set earlier\n",
    "pl.camera_position = cpos\n",
    "# pl.camera.zoom(1.2)\n",
    "\n",
    "# Drawing lines as a grid proxy\n",
    "# mesh = pv.Line((0, 0, 0), (0, 0, 1))\n",
    "# mesh.plot(color='k', line_width=10)\n",
    "\n",
    "# Experimenting with lights\n",
    "light = pv.Light((-2, 2, 0), (0, 0, 0), \"white\")\n",
    "pl.add_light(light)\n",
    "\n",
    "\n",
    "# Make a video over time steps\n",
    "step = 500\n",
    "pl.open_movie(f\"{engine.mesh.active_scalars_name}.mp4\", framerate=60, quality=5)\n",
    "for tindex in tqdm(range(0, engine.max_time_step, step)):\n",
    "    engine.time_step = tindex\n",
    "    pl.add_text(\n",
    "        f\"t = {tindex:05d}\", name=\"time-step-label\", font_size=theme.TIMESTEP_FONT_SIZE\n",
    "    )\n",
    "    pl.write_frame()\n",
    "pl.close()"
   ]
  },
  {
   "cell_type": "code",
   "execution_count": null,
   "id": "cf1f8a17-2112-4670-b421-3c793ce58008",
   "metadata": {
    "tags": []
   },
   "outputs": [],
   "source": [
    "f\"{engine.mesh.active_scalars_name}.mp4\""
   ]
  },
  {
   "cell_type": "code",
   "execution_count": null,
   "id": "8c6739a1-2f5e-4cff-9fef-7a36701aaf85",
   "metadata": {},
   "outputs": [],
   "source": []
  }
 ],
 "metadata": {
  "kernelspec": {
   "display_name": "kale",
   "language": "python",
   "name": "pyenv_kale"
  },
  "language_info": {
   "codemirror_mode": {
    "name": "ipython",
    "version": 3
   },
   "file_extension": ".py",
   "mimetype": "text/x-python",
   "name": "python",
   "nbconvert_exporter": "python",
   "pygments_lexer": "ipython3",
   "version": "3.11.0"
  }
 },
 "nbformat": 4,
 "nbformat_minor": 5
}
