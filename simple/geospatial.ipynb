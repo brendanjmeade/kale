{
 "cells": [
  {
   "cell_type": "code",
   "execution_count": null,
   "id": "26a62b12",
   "metadata": {},
   "outputs": [],
   "source": [
    "import numpy as np\n",
    "import pyvista as pv\n",
    "from kale.algorithms import contour_banded\n",
    "from kale import theme, helpers\n",
    "import xarray as xr"
   ]
  },
  {
   "cell_type": "code",
   "execution_count": null,
   "id": "215c0399",
   "metadata": {},
   "outputs": [],
   "source": [
    "MESH_GEOMETRY_FILE_NAME = \"nankai_121728_clean.vtk\"\n",
    "MESH_VALUES_FILE_NAME = \"2023_03_04_00_02_03.hdf\"\n",
    "MESH_Z_SCALE = 0.025\n",
    "TIME_STEP_INTERESTING = 1000"
   ]
  },
  {
   "cell_type": "code",
   "execution_count": null,
   "id": "72de1b14",
   "metadata": {},
   "outputs": [],
   "source": [
    "ds = xr.open_dataset(MESH_VALUES_FILE_NAME, engine=\"netcdf4\")\n",
    "data = ds[\"loading_rate\"][TIME_STEP_INTERESTING, :]\n",
    "mesh = pv.read(MESH_GEOMETRY_FILE_NAME)\n",
    "mesh.cell_data[\"data\"] = data\n",
    "mesh.points[:, -1] *= MESH_Z_SCALE\n",
    "\n",
    "mesh.points[:, 0]\n",
    "\n",
    "boundary = mesh.extract_feature_edges(\n",
    "    boundary_edges=True,\n",
    "    non_manifold_edges=False,\n",
    "    feature_edges=False,\n",
    "    manifold_edges=False,\n",
    ")\n",
    "boundary.clear_data()"
   ]
  },
  {
   "cell_type": "code",
   "execution_count": null,
   "id": "a8ef553f",
   "metadata": {},
   "outputs": [],
   "source": [
    "pl = pv.Plotter()\n",
    "pl.add_mesh(\n",
    "    boundary, color=theme.CONTOUR_LINE_COLOR, line_width=theme.CONTOUR_LINE_WIDTH\n",
    ")\n",
    "\n",
    "CONTOUR_LEVELS = np.linspace(-60, 60, 21)\n",
    "\n",
    "# helpers.add_contours(plotter, source, scalars, levels, **kwargs)\n",
    "helpers.add_contours(\n",
    "    pl,\n",
    "    mesh,\n",
    "    scalars=\"data\",\n",
    "    levels=CONTOUR_LEVELS,\n",
    "    cmap=\"RdYlBu_r\",\n",
    "    show_scalar_bar=True,\n",
    "    scalar_bar_args=dict(title=f\"\", **theme.SCALAR_BAR_OPTS),\n",
    ")\n",
    "\n",
    "\n",
    "# box = pv.Box(mesh.bounds)\n",
    "# pl.add_mesh(box, color=\"lightgrey\", culling=\"front\")\n",
    "pl.add_floor(\"-z\", show_edges=True, edge_color=\"white\", color=\"lightgray\")\n",
    "\n",
    "helpers.add_coastlines(pl, line_width=5)\n",
    "helpers.add_bounds(pl, bounds=boundary.bounds)\n",
    "pl.camera.zoom(1.2)\n",
    "\n",
    "pl.show()"
   ]
  },
  {
   "cell_type": "code",
   "execution_count": null,
   "id": "531fa0d1",
   "metadata": {},
   "outputs": [],
   "source": []
  }
 ],
 "metadata": {
  "kernelspec": {
   "display_name": "kale",
   "language": "python",
   "name": "pyenv_kale"
  },
  "language_info": {
   "codemirror_mode": {
    "name": "ipython",
    "version": 3
   },
   "file_extension": ".py",
   "mimetype": "text/x-python",
   "name": "python",
   "nbconvert_exporter": "python",
   "pygments_lexer": "ipython3",
   "version": "3.11.0"
  }
 },
 "nbformat": 4,
 "nbformat_minor": 5
}
