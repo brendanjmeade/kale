{
 "cells": [
  {
   "cell_type": "markdown",
   "id": "665852fa-7e2f-4e74-9732-b3a9950760cd",
   "metadata": {},
   "source": [
    "Goal: *Plot cumulative slip at three different time steps in a single figure.*\n",
    "\n",
    "What this notebook does: *Loads data and lets the user choose the variable and three time steps to produce a single figure. The plotting is non-interactive and saves screenshots in the format of `<variable_name>-t(<time_step_a>, <time_step_b>, <time_step_c>).png`"
   ]
  },
  {
   "cell_type": "code",
   "execution_count": null,
   "id": "f76c371a-4b8f-416a-81cb-a66c0babd0be",
   "metadata": {
    "tags": []
   },
   "outputs": [],
   "source": [
    "import numpy as np\n",
    "import pyvista as pv\n",
    "from tqdm import tqdm\n",
    "\n",
    "from kale import Engine, save_movie, show_ui\n",
    "from kale.algorithms import (\n",
    "    contour_banded,\n",
    "    subdivide_algorithm,\n",
    "    scalars_operation_algorithm,\n",
    ")\n",
    "from kale import helpers\n",
    "from kale import theme"
   ]
  },
  {
   "cell_type": "code",
   "execution_count": null,
   "id": "c7519a36-6dca-4486-b0d0-438f836602c4",
   "metadata": {
    "tags": []
   },
   "outputs": [],
   "source": [
    "# Theming adjustments\n",
    "pv.global_theme.image_scale = 10"
   ]
  },
  {
   "cell_type": "markdown",
   "id": "edb53270-efae-4033-bf6e-387b830e9237",
   "metadata": {},
   "source": [
    "# Load Data"
   ]
  },
  {
   "cell_type": "code",
   "execution_count": null,
   "id": "87e9c660-8057-4a9d-8b44-9d1290c92928",
   "metadata": {
    "tags": []
   },
   "outputs": [],
   "source": [
    "MESH_GEOMETRY_FILE_NAME = \"2022_11_30_11_52_49_mesh_geometry.vtk\"\n",
    "MESH_VALUES_FILE_NAME = \"2022_11_30_11_52_49.hdf\"\n",
    "MESH_Z_SCALE = 0.01"
   ]
  },
  {
   "cell_type": "code",
   "execution_count": null,
   "id": "de9c71c1-2f92-4ab5-acc0-99c0e4c16105",
   "metadata": {
    "tags": []
   },
   "outputs": [],
   "source": [
    "engine = Engine(MESH_GEOMETRY_FILE_NAME, MESH_VALUES_FILE_NAME, zscale=MESH_Z_SCALE)\n",
    "engine.keys"
   ]
  },
  {
   "cell_type": "markdown",
   "id": "71e5e140-9d20-4298-bf1a-61fbaa259719",
   "metadata": {
    "tags": []
   },
   "source": [
    "# Find Camera Position\n",
    "\n",
    "This is a helper section to find your preferred camera location"
   ]
  },
  {
   "cell_type": "code",
   "execution_count": null,
   "id": "0a98129d-84e4-46b7-b452-57b323301f59",
   "metadata": {
    "tags": []
   },
   "outputs": [],
   "source": [
    "pl = pv.Plotter()\n",
    "pl.add_mesh(engine.mesh, color=\"beige\")\n",
    "pl.show()"
   ]
  },
  {
   "cell_type": "code",
   "execution_count": null,
   "id": "410dfe14-f1f9-442d-a508-929d21d687c6",
   "metadata": {
    "tags": []
   },
   "outputs": [],
   "source": [
    "# copy value of this output into next cell after moving scene above\n",
    "pl.camera_position"
   ]
  },
  {
   "cell_type": "code",
   "execution_count": null,
   "id": "6af02074-ca43-4c85-8a2b-c80d9e15fe82",
   "metadata": {
    "tags": []
   },
   "outputs": [],
   "source": [
    "# set the camera position (different for different datasets)\n",
    "cpos = [\n",
    "    (246.72654935831832, 56.640050977986135, 19.47264855846906),\n",
    "    (235.64372937685064, 45.67443514953468, -0.9481135945038834),\n",
    "    (-0.6591979033815945, -0.45237409343002455, 0.6006794517633125),\n",
    "]"
   ]
  },
  {
   "cell_type": "markdown",
   "id": "0b2c4dff-3ff1-4dfd-a84f-fbe166af9b1b",
   "metadata": {},
   "source": [
    "# Time Steps\n",
    "\n",
    "List the different time steps to display. The following cell lists available time step range"
   ]
  },
  {
   "cell_type": "code",
   "execution_count": null,
   "id": "9bf1498a-9b52-44d2-b7a7-6bf135d3eae4",
   "metadata": {
    "tags": []
   },
   "outputs": [],
   "source": [
    "# How many time steps available?\n",
    "engine.max_time_step"
   ]
  },
  {
   "cell_type": "code",
   "execution_count": null,
   "id": "76d00ce5-7968-42a5-9048-ce7833aaf1fa",
   "metadata": {
    "tags": []
   },
   "outputs": [],
   "source": [
    "# Set the three time steps\n",
    "time_step_a = 0  # \"pre-event\"\n",
    "time_step_b = engine.max_time_step // 2  # \"event\"\n",
    "time_step_c = engine.max_time_step - 10  # \"post-event\"\n",
    "\n",
    "time_step_a, time_step_b, time_step_c"
   ]
  },
  {
   "cell_type": "code",
   "execution_count": null,
   "id": "108a110e-86a2-441b-a105-c9c747024968",
   "metadata": {
    "tags": []
   },
   "outputs": [],
   "source": [
    "# Chose labels for these three time steps\n",
    "labels = [\"pre-event\", \"event\", \"post-event\"]"
   ]
  },
  {
   "cell_type": "markdown",
   "id": "06b5f88b-5879-4ebe-a868-00150de06c86",
   "metadata": {},
   "source": [
    "# Choosing data array\n",
    "\n",
    "The following cell is where you can control which variable is being plotted:"
   ]
  },
  {
   "cell_type": "code",
   "execution_count": null,
   "id": "11eaac2a-253a-468a-923e-9258f731300b",
   "metadata": {
    "tags": []
   },
   "outputs": [],
   "source": [
    "engine.mesh.active_scalars_name = \"cumulative_slip\""
   ]
  },
  {
   "cell_type": "markdown",
   "id": "4cd80d90-d582-42f5-aa46-9b01eb8e1f0e",
   "metadata": {},
   "source": [
    "# Extracting meshes for each time step\n",
    "\n",
    "Use a `.copy()` operation to \"export\" each time step"
   ]
  },
  {
   "cell_type": "code",
   "execution_count": null,
   "id": "d73393bc-a8f2-42d4-8b68-0a0a34879c78",
   "metadata": {
    "tags": []
   },
   "outputs": [],
   "source": [
    "engine.time_step = time_step_a\n",
    "mesh_a = engine.mesh.copy()\n",
    "\n",
    "engine.time_step = time_step_b\n",
    "mesh_b = engine.mesh.copy()\n",
    "\n",
    "engine.time_step = time_step_c\n",
    "mesh_c = engine.mesh.copy()"
   ]
  },
  {
   "cell_type": "markdown",
   "id": "5eec1b5f-7614-4500-ae57-55a65616bf44",
   "metadata": {
    "tags": []
   },
   "source": [
    "# Visualize\n",
    "\n",
    "This cell will not produce an output, but instead renders off-screen to create screenshots."
   ]
  },
  {
   "cell_type": "code",
   "execution_count": null,
   "id": "45228c3e-65f7-41ca-83e7-7a29227adb5d",
   "metadata": {
    "tags": []
   },
   "outputs": [],
   "source": [
    "CONTOUR_LEVELS = np.linspace(-10, 10, 21)\n",
    "N_COLORS = len(CONTOUR_LEVELS) - 1\n",
    "CLIM = [np.min(CONTOUR_LEVELS), np.max(CONTOUR_LEVELS)]\n",
    "CAMERA_ZOOM = 1.0\n",
    "TITLE_POSITION = [0.1, 0.62]\n",
    "\n",
    "boundary = engine.boundary\n",
    "\n",
    "pl = pv.Plotter(shape=(1, 3), border=False, multi_samples=8, line_smoothing=True)\n",
    "\n",
    "# Plotter configurations\n",
    "# pl.enable_ssao(radius=15, bias=0.5)\n",
    "# pl.enable_anti_aliasing('ssaa')\n",
    "# pl.enable_shadows()\n",
    "\n",
    "# Add common features to each subplot\n",
    "for i in range(3):\n",
    "    pl.subplot(0, i)\n",
    "    pl.add_mesh(boundary)\n",
    "    # pl.add_mesh(pv.Box(mesh.bounds), color=\"lightgrey\", culling=\"front\")\n",
    "    pl.add_text(\n",
    "        labels[i],\n",
    "        position=TITLE_POSITION,\n",
    "        color=\"k\",\n",
    "        shadow=False,\n",
    "        font_size=12,\n",
    "        viewport=True,\n",
    "    )\n",
    "    pl.add_floor(\"-z\", show_edges=True, edge_color=\"white\", color=\"lightgray\")\n",
    "    helpers.add_bounds(pl)\n",
    "\n",
    "\n",
    "# TODO: make sure this annotation matches scalar array\n",
    "# annotations = {\n",
    "#     0.0: \"geometric moment / area (m)\",\n",
    "# }\n",
    "\n",
    "# Pre-event geometric moment\n",
    "pl.subplot(0, 0)\n",
    "contour, edges = contour_banded(\n",
    "    mesh_a,\n",
    "    CONTOUR_LEVELS,\n",
    "    rng=CLIM,\n",
    "    scalars=engine.mesh.active_scalars_name,\n",
    ")\n",
    "pl.add_mesh(\n",
    "    contour,\n",
    "    cmap=\"RdYlBu_r\",\n",
    "    clim=CLIM,\n",
    "    scalars=engine.mesh.active_scalars_name,\n",
    "    n_colors=N_COLORS,\n",
    ")\n",
    "pl.add_mesh(edges)\n",
    "\n",
    "\n",
    "# Event geometric moment\n",
    "pl.subplot(0, 1)\n",
    "# only show scalar bar in this subplot\n",
    "\n",
    "contour, edges = contour_banded(\n",
    "    mesh_b,\n",
    "    CONTOUR_LEVELS,\n",
    "    rng=CLIM,\n",
    "    scalars=engine.mesh.active_scalars_name,\n",
    ")\n",
    "pl.add_mesh(\n",
    "    contour,\n",
    "    cmap=\"RdYlBu_r\",\n",
    "    clim=CLIM,\n",
    "    scalars=engine.mesh.active_scalars_name,\n",
    "    n_colors=N_COLORS,\n",
    "    show_scalar_bar=True,\n",
    "    scalar_bar_args=dict(title=f\"\", **theme.SCALAR_BAR_H),\n",
    "    # annotations=annotations,\n",
    ")\n",
    "pl.add_mesh(edges)\n",
    "\n",
    "\n",
    "# Post-event slip\n",
    "pl.subplot(0, 2)\n",
    "\n",
    "contour, edges = contour_banded(\n",
    "    mesh_c,\n",
    "    CONTOUR_LEVELS,\n",
    "    rng=CLIM,\n",
    "    scalars=engine.mesh.active_scalars_name,\n",
    ")\n",
    "pl.add_mesh(\n",
    "    contour,\n",
    "    cmap=\"RdYlBu_r\",\n",
    "    clim=CLIM,\n",
    "    scalars=engine.mesh.active_scalars_name,\n",
    "    n_colors=N_COLORS,\n",
    ")\n",
    "pl.add_mesh(edges)\n",
    "\n",
    "\n",
    "# Camera controls\n",
    "pl.link_views()  # links all subplot cameras\n",
    "pl.camera_position = cpos\n",
    "# pl.camera.zoom(1.2)\n",
    "\n",
    "pl.show()"
   ]
  },
  {
   "cell_type": "code",
   "execution_count": null,
   "id": "cf1f8a17-2112-4670-b421-3c793ce58008",
   "metadata": {},
   "outputs": [],
   "source": [
    "filename = f\"{engine.mesh.active_scalars_name}-t({time_step_a}, {time_step_b}, {time_step_c}).png\"\n",
    "pl.screenshot(filename, scale=3, return_img=False)"
   ]
  },
  {
   "cell_type": "code",
   "execution_count": null,
   "id": "e2993174-eefd-4ea3-93d7-7d37ce771076",
   "metadata": {},
   "outputs": [],
   "source": []
  }
 ],
 "metadata": {
  "kernelspec": {
   "display_name": "kale",
   "language": "python",
   "name": "pyenv_kale"
  },
  "language_info": {
   "codemirror_mode": {
    "name": "ipython",
    "version": 3
   },
   "file_extension": ".py",
   "mimetype": "text/x-python",
   "name": "python",
   "nbconvert_exporter": "python",
   "pygments_lexer": "ipython3",
   "version": "3.11.0"
  }
 },
 "nbformat": 4,
 "nbformat_minor": 5
}
