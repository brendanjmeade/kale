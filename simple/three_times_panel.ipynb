{
 "cells": [
  {
   "cell_type": "markdown",
   "id": "48950bcc",
   "metadata": {},
   "source": [
    "Goal: *Plot cumulative slip at three different time steps in a single figure.*\n",
    "\n",
    "What this notebook does: *Loads data and lets the user choose the variable and three time steps to produce a single figure. The plotting is non-interactive and saves screenshots in the format of `<variable_name>-t(<time_step_a>, <time_step_b>, <time_step_c>).png`"
   ]
  },
  {
   "cell_type": "code",
   "execution_count": null,
   "id": "280fab93",
   "metadata": {
    "tags": []
   },
   "outputs": [],
   "source": [
    "import numpy as np\n",
    "import pyvista as pv\n",
    "from tqdm import tqdm\n",
    "\n",
    "from kale import Engine, save_movie, show_ui\n",
    "from kale.algorithms import (\n",
    "    contour_banded,\n",
    "    subdivide_algorithm,\n",
    "    scalars_operation_algorithm,\n",
    ")\n",
    "from kale import helpers\n",
    "from kale import theme"
   ]
  },
  {
   "cell_type": "code",
   "execution_count": null,
   "id": "5796bfd0",
   "metadata": {
    "tags": []
   },
   "outputs": [],
   "source": [
    "# Theming adjustments\n",
    "pv.global_theme.image_scale = 10"
   ]
  },
  {
   "cell_type": "markdown",
   "id": "523586ce",
   "metadata": {},
   "source": [
    "# Load Data"
   ]
  },
  {
   "cell_type": "code",
   "execution_count": null,
   "id": "84696ed4",
   "metadata": {
    "tags": []
   },
   "outputs": [],
   "source": [
    "MESH_GEOMETRY_FILE_NAME = \"2022_11_30_11_52_49_mesh_geometry.vtk\"\n",
    "MESH_VALUES_FILE_NAME = \"2022_11_30_11_52_49.hdf\"\n",
    "MESH_Z_SCALE = 0.01"
   ]
  },
  {
   "cell_type": "code",
   "execution_count": null,
   "id": "abf8d0f3",
   "metadata": {
    "tags": []
   },
   "outputs": [],
   "source": [
    "engine = Engine(MESH_GEOMETRY_FILE_NAME, MESH_VALUES_FILE_NAME, zscale=MESH_Z_SCALE)\n",
    "engine.keys"
   ]
  },
  {
   "cell_type": "markdown",
   "id": "3daffc10",
   "metadata": {
    "tags": []
   },
   "source": [
    "# Find Camera Position\n",
    "\n",
    "This is a helper section to find your preferred camera location"
   ]
  },
  {
   "cell_type": "code",
   "execution_count": null,
   "id": "ba300f77",
   "metadata": {
    "tags": []
   },
   "outputs": [],
   "source": [
    "pl = pv.Plotter()\n",
    "pl.add_mesh(engine.mesh, color=\"beige\")\n",
    "pl.show()"
   ]
  },
  {
   "cell_type": "code",
   "execution_count": null,
   "id": "7b9ac714",
   "metadata": {
    "tags": []
   },
   "outputs": [],
   "source": [
    "# copy value of this output into next cell after moving scene above\n",
    "pl.camera_position"
   ]
  },
  {
   "cell_type": "code",
   "execution_count": null,
   "id": "0ac4632f",
   "metadata": {
    "tags": []
   },
   "outputs": [],
   "source": [
    "# set the camera position (different for different datasets)\n",
    "cpos = [\n",
    "    (246.72654935831832, 56.640050977986135, 19.47264855846906),\n",
    "    (235.64372937685064, 45.67443514953468, -0.9481135945038834),\n",
    "    (-0.6591979033815945, -0.45237409343002455, 0.6006794517633125),\n",
    "]"
   ]
  },
  {
   "cell_type": "markdown",
   "id": "464778dd",
   "metadata": {},
   "source": [
    "# Time Steps\n",
    "\n",
    "List the different time steps to display. The following cell lists available time step range"
   ]
  },
  {
   "cell_type": "code",
   "execution_count": null,
   "id": "a1979021",
   "metadata": {
    "tags": []
   },
   "outputs": [],
   "source": [
    "# How many time steps available?\n",
    "engine.max_time_step"
   ]
  },
  {
   "cell_type": "code",
   "execution_count": null,
   "id": "ec7a47ed",
   "metadata": {
    "tags": []
   },
   "outputs": [],
   "source": [
    "# Set the three time steps\n",
    "time_step_a = 0  # \"pre-event\"\n",
    "time_step_b = engine.max_time_step // 2  # \"event\"\n",
    "time_step_c = engine.max_time_step - 10  # \"post-event\"\n",
    "\n",
    "time_step_a, time_step_b, time_step_c"
   ]
  },
  {
   "cell_type": "code",
   "execution_count": null,
   "id": "4f7109ff",
   "metadata": {
    "tags": []
   },
   "outputs": [],
   "source": [
    "# Chose labels for these three time steps\n",
    "labels = [\"pre-event\", \"event\", \"post-event\"]"
   ]
  },
  {
   "cell_type": "markdown",
   "id": "94244ce5",
   "metadata": {},
   "source": [
    "# Choosing data array\n",
    "\n",
    "The following cell is where you can control which variable is being plotted:"
   ]
  },
  {
   "cell_type": "code",
   "execution_count": null,
   "id": "3dbe428b",
   "metadata": {
    "tags": []
   },
   "outputs": [],
   "source": [
    "engine.mesh.active_scalars_name = \"cumulative_slip\""
   ]
  },
  {
   "cell_type": "markdown",
   "id": "f1dbb686",
   "metadata": {},
   "source": [
    "# Extracting meshes for each time step\n",
    "\n",
    "Use a `.copy()` operation to \"export\" each time step"
   ]
  },
  {
   "cell_type": "code",
   "execution_count": null,
   "id": "705d606b",
   "metadata": {
    "tags": []
   },
   "outputs": [],
   "source": [
    "engine.time_step = time_step_a\n",
    "mesh_a = engine.mesh.copy()\n",
    "\n",
    "engine.time_step = time_step_b\n",
    "mesh_b = engine.mesh.copy()\n",
    "\n",
    "engine.time_step = time_step_c\n",
    "mesh_c = engine.mesh.copy()"
   ]
  },
  {
   "cell_type": "markdown",
   "id": "e9b43782",
   "metadata": {
    "tags": []
   },
   "source": [
    "# Visualize\n",
    "\n",
    "This cell will not produce an output, but instead renders off-screen to create screenshots."
   ]
  },
  {
   "cell_type": "code",
   "execution_count": null,
   "id": "8351f49b",
   "metadata": {
    "tags": []
   },
   "outputs": [],
   "source": [
    "CONTOUR_LEVELS = np.linspace(-10, 10, 21)\n",
    "N_COLORS = len(CONTOUR_LEVELS) - 1\n",
    "CLIM = [np.min(CONTOUR_LEVELS), np.max(CONTOUR_LEVELS)]\n",
    "CAMERA_ZOOM = 1.0\n",
    "TITLE_POSITION = [0.1, 0.62]\n",
    "\n",
    "boundary = engine.boundary\n",
    "\n",
    "pl = pv.Plotter(shape=(1, 3), border=False, multi_samples=8, line_smoothing=True)\n",
    "\n",
    "# Plotter configurations\n",
    "# pl.enable_ssao(radius=15, bias=0.5)\n",
    "# pl.enable_anti_aliasing('ssaa')\n",
    "# pl.enable_shadows()\n",
    "\n",
    "# Add common features to each subplot\n",
    "for i in range(3):\n",
    "    pl.subplot(0, i)\n",
    "    pl.add_mesh(boundary)\n",
    "    # pl.add_mesh(pv.Box(mesh.bounds), color=\"lightgrey\", culling=\"front\")\n",
    "    pl.add_text(\n",
    "        labels[i],\n",
    "        position=TITLE_POSITION,\n",
    "        color=\"k\",\n",
    "        shadow=False,\n",
    "        font_size=12,\n",
    "        viewport=True,\n",
    "    )\n",
    "    pl.add_floor(\"-z\", show_edges=True, edge_color=\"white\", color=\"lightgray\")\n",
    "    helpers.add_coastlines(pl, line_width=5)\n",
    "    helpers.add_bounds(pl)\n",
    "\n",
    "\n",
    "# TODO: make sure this annotation matches scalar array\n",
    "# annotations = {\n",
    "#     0.0: \"geometric moment / area (m)\",\n",
    "# }\n",
    "\n",
    "# Pre-event geometric moment\n",
    "pl.subplot(0, 0)\n",
    "contour, edges = contour_banded(\n",
    "    mesh_a,\n",
    "    CONTOUR_LEVELS,\n",
    "    rng=CLIM,\n",
    "    scalars=engine.mesh.active_scalars_name,\n",
    ")\n",
    "pl.add_mesh(\n",
    "    contour,\n",
    "    cmap=\"RdYlBu_r\",\n",
    "    clim=CLIM,\n",
    "    scalars=engine.mesh.active_scalars_name,\n",
    "    n_colors=N_COLORS,\n",
    ")\n",
    "pl.add_mesh(edges)\n",
    "\n",
    "\n",
    "# Event geometric moment\n",
    "pl.subplot(0, 1)\n",
    "# only show scalar bar in this subplot\n",
    "\n",
    "contour, edges = contour_banded(\n",
    "    mesh_b,\n",
    "    CONTOUR_LEVELS,\n",
    "    rng=CLIM,\n",
    "    scalars=engine.mesh.active_scalars_name,\n",
    ")\n",
    "pl.add_mesh(\n",
    "    contour,\n",
    "    cmap=\"RdYlBu_r\",\n",
    "    clim=CLIM,\n",
    "    scalars=engine.mesh.active_scalars_name,\n",
    "    n_colors=N_COLORS,\n",
    "    show_scalar_bar=True,\n",
    "    scalar_bar_args=dict(title=f\"\", **theme.SCALAR_BAR_H),\n",
    "    # annotations=annotations,\n",
    ")\n",
    "pl.add_mesh(edges)\n",
    "\n",
    "\n",
    "# Post-event slip\n",
    "pl.subplot(0, 2)\n",
    "\n",
    "contour, edges = contour_banded(\n",
    "    mesh_c,\n",
    "    CONTOUR_LEVELS,\n",
    "    rng=CLIM,\n",
    "    scalars=engine.mesh.active_scalars_name,\n",
    ")\n",
    "pl.add_mesh(\n",
    "    contour,\n",
    "    cmap=\"RdYlBu_r\",\n",
    "    clim=CLIM,\n",
    "    scalars=engine.mesh.active_scalars_name,\n",
    "    n_colors=N_COLORS,\n",
    ")\n",
    "pl.add_mesh(edges)\n",
    "\n",
    "\n",
    "# Camera controls\n",
    "pl.link_views()  # links all subplot cameras\n",
    "pl.camera_position = cpos\n",
    "# pl.camera.zoom(1.2)\n",
    "\n",
    "pl.show()"
   ]
  },
  {
   "cell_type": "code",
   "execution_count": null,
   "id": "7cb186c6",
   "metadata": {},
   "outputs": [],
   "source": [
    "filename = f\"{engine.mesh.active_scalars_name}-t({time_step_a}, {time_step_b}, {time_step_c}).png\"\n",
    "pl.screenshot(filename, scale=3, return_img=False)"
   ]
  },
  {
   "cell_type": "code",
   "execution_count": null,
   "id": "fc0457b0",
   "metadata": {},
   "outputs": [],
   "source": []
  }
 ],
 "metadata": {
  "kernelspec": {
   "display_name": "kale",
   "language": "python",
   "name": "pyenv_kale"
  },
  "language_info": {
   "codemirror_mode": {
    "name": "ipython",
    "version": 3
   },
   "file_extension": ".py",
   "mimetype": "text/x-python",
   "name": "python",
   "nbconvert_exporter": "python",
   "pygments_lexer": "ipython3",
   "version": "3.11.0"
  }
 },
 "nbformat": 4,
 "nbformat_minor": 5
}
