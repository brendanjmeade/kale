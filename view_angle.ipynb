{
 "cells": [
  {
   "cell_type": "code",
   "execution_count": 9,
   "id": "09b0384f-8336-4975-bdc3-8ece67c97801",
   "metadata": {},
   "outputs": [
    {
     "data": {
      "application/vnd.jupyter.widget-view+json": {
       "model_id": "1ed9f8e569c042c58fe2f03e36617b27",
       "version_major": 2,
       "version_minor": 0
      },
      "text/plain": [
       "Widget(value=\"<iframe src='http://localhost:50918/index.html?ui=P_0x135fd5a10_4&reconnect=auto' style='width: …"
      ]
     },
     "metadata": {},
     "output_type": "display_data"
    }
   ],
   "source": [
    "import numpy as np\n",
    "import pyvista as pv\n",
    "pv.set_jupyter_backend(\"server\")\n",
    "\n",
    "mesh = pv.read( \"nankai_121728_clean.vtk\")\n",
    "mesh.cell_data[\"data\"] = np.cumsum(np.ones(mesh.n_cells))\n",
    "mesh.points[:, -1] *= 0.025\n",
    "\n",
    "pl = pv.Plotter()\n",
    "_ = pl.add_mesh(mesh)\n",
    "_ = pl.add_bounding_box(line_width=5, color=\"black\") # Not showing???\n",
    "pl.camera.view_angle = 45\n",
    "pl.show()"
   ]
  },
  {
   "cell_type": "code",
   "execution_count": 2,
   "id": "3f51513c",
   "metadata": {},
   "outputs": [],
   "source": []
  },
  {
   "cell_type": "code",
   "execution_count": 6,
   "id": "f7a68ef6",
   "metadata": {},
   "outputs": [
    {
     "data": {
      "application/vnd.jupyter.widget-view+json": {
       "model_id": "ab509c27065c458caf4f4f706a98ec59",
       "version_major": 2,
       "version_minor": 0
      },
      "text/plain": [
       "Widget(value=\"<iframe src='http://localhost:50918/index.html?ui=P_0x135c31c10_1&reconnect=auto' style='width: …"
      ]
     },
     "metadata": {},
     "output_type": "display_data"
    }
   ],
   "source": [
    "\n"
   ]
  },
  {
   "cell_type": "code",
   "execution_count": 4,
   "id": "b85a0478",
   "metadata": {},
   "outputs": [],
   "source": [
    "c = mesh.cell_centers"
   ]
  },
  {
   "cell_type": "code",
   "execution_count": 5,
   "id": "2b029502",
   "metadata": {},
   "outputs": [
    {
     "name": "stdout",
     "output_type": "stream",
     "text": [
      "<bound method DataSetFilters.cell_centers of UnstructuredGrid (0x135ab9300)\n",
      "  N Cells:    121728\n",
      "  N Points:   61942\n",
      "  X Bounds:   1.308e+02, 1.386e+02\n",
      "  Y Bounds:   3.039e+01, 3.591e+01\n",
      "  Z Bounds:   -1.250e+00, 0.000e+00\n",
      "  N Arrays:   1\n",
      ">\n"
     ]
    }
   ],
   "source": [
    "print(c)"
   ]
  },
  {
   "cell_type": "code",
   "execution_count": null,
   "id": "93776e49",
   "metadata": {},
   "outputs": [],
   "source": []
  }
 ],
 "metadata": {
  "kernelspec": {
   "display_name": "Python 3 (ipykernel)",
   "language": "python",
   "name": "python3"
  },
  "language_info": {
   "codemirror_mode": {
    "name": "ipython",
    "version": 3
   },
   "file_extension": ".py",
   "mimetype": "text/x-python",
   "name": "python",
   "nbconvert_exporter": "python",
   "pygments_lexer": "ipython3",
   "version": "3.11.0"
  },
  "vscode": {
   "interpreter": {
    "hash": "ebd63b96796195b8484c56a28d0ea41b67d5b22be7c83ff5c7ced0e2ede413f2"
   }
  }
 },
 "nbformat": 4,
 "nbformat_minor": 5
}
