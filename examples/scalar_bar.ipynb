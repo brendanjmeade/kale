{
 "cells": [
  {
   "cell_type": "code",
   "execution_count": null,
   "id": "dec584f7-bbf7-4ff1-a6df-a0936b94f448",
   "metadata": {},
   "outputs": [],
   "source": [
    "import pyvista as pv\n",
    "from pyvista import examples\n",
    "\n",
    "pv.set_plot_theme(\"document\")\n",
    "\n",
    "# Load St Helens DEM and warp the topography\n",
    "mesh = examples.download_st_helens().warp_by_scalar()"
   ]
  },
  {
   "cell_type": "code",
   "execution_count": null,
   "id": "1a8582d8-e6ac-4b2b-82a4-38a2ec876a75",
   "metadata": {},
   "outputs": [],
   "source": [
    "COLORBAR_FONT_SIZE = 34\n",
    "AXES_FONT_SIZE = 26\n",
    "TIMESTEP_FONT_SIZE = 12\n",
    "\n",
    "SCALAR_BAR_OPTS = dict(\n",
    "    # Position (coordinates are on the viewport)\n",
    "    vertical=True,\n",
    "    height=0.20,\n",
    "    width=0.05,\n",
    "    position_x=0.05,\n",
    "    position_y=0.40,\n",
    "    # Labels\n",
    "    title_font_size=AXES_FONT_SIZE,\n",
    "    label_font_size=AXES_FONT_SIZE,\n",
    "    n_labels=3,\n",
    "    italic=False,\n",
    "    fmt=\"%.1f\",\n",
    "    font_family=\"arial\",\n",
    "    shadow=True,\n",
    "    above_label=\"\",\n",
    "    below_label=\"\",\n",
    ")"
   ]
  },
  {
   "cell_type": "code",
   "execution_count": null,
   "id": "6e29a829-6b8e-4ace-a950-42d64ae3b5a6",
   "metadata": {},
   "outputs": [],
   "source": [
    "pl = pv.Plotter()\n",
    "actor = pl.add_mesh(\n",
    "    mesh,\n",
    "    above_color=\"red\",\n",
    "    below_color=\"blue\",\n",
    "    clim=(800, 2300),\n",
    "    show_scalar_bar=False,  # Set in `kale` theme\n",
    ")\n",
    "pl.add_scalar_bar(title=\"My Title\", **SCALAR_BAR_OPTS)\n",
    "pl.show()"
   ]
  },
  {
   "cell_type": "code",
   "execution_count": null,
   "id": "a0ef5b9b-df24-4dd5-bf74-c62f5e2740ab",
   "metadata": {},
   "outputs": [],
   "source": []
  }
 ],
 "metadata": {
  "kernelspec": {
   "display_name": "Python 3 (ipykernel)",
   "language": "python",
   "name": "python3"
  },
  "language_info": {
   "codemirror_mode": {
    "name": "ipython",
    "version": 3
   },
   "file_extension": ".py",
   "mimetype": "text/x-python",
   "name": "python",
   "nbconvert_exporter": "python",
   "pygments_lexer": "ipython3",
   "version": "3.9.13"
  },
  "vscode": {
   "interpreter": {
    "hash": "ddb2df9e06be7fd1da0d2029f27e72ac1bd6961667f55ee42629fbe32c208b18"
   }
  }
 },
 "nbformat": 4,
 "nbformat_minor": 5
}
