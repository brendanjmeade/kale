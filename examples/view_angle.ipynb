{
 "cells": [
  {
   "cell_type": "code",
   "execution_count": null,
   "id": "09b0384f-8336-4975-bdc3-8ece67c97801",
   "metadata": {
    "tags": []
   },
   "outputs": [],
   "source": [
    "import numpy as np\n",
    "import pyvista as pv\n",
    "import kale\n",
    "\n",
    "mesh = pv.read(\"nankai_121728_clean.vtk\")\n",
    "mesh.cell_data[\"data\"] = np.cumsum(np.ones(mesh.n_cells))\n",
    "mesh.points[:, -1] *= 0.025\n",
    "\n",
    "pl = pv.Plotter()\n",
    "_ = pl.add_mesh(mesh)\n",
    "_ = pl.add_bounding_box(line_width=5, color=\"black\")\n",
    "pl.camera.view_angle = 45\n",
    "pl.show()"
   ]
  },
  {
   "cell_type": "code",
   "execution_count": null,
   "id": "b85a0478",
   "metadata": {
    "tags": []
   },
   "outputs": [],
   "source": [
    "c = mesh.cell_centers"
   ]
  },
  {
   "cell_type": "code",
   "execution_count": null,
   "id": "2b029502",
   "metadata": {
    "tags": []
   },
   "outputs": [],
   "source": [
    "help(c)"
   ]
  },
  {
   "cell_type": "code",
   "execution_count": null,
   "id": "93776e49",
   "metadata": {},
   "outputs": [],
   "source": []
  }
 ],
 "metadata": {
  "kernelspec": {
   "display_name": "kale",
   "language": "python",
   "name": "pyenv_kale"
  },
  "language_info": {
   "codemirror_mode": {
    "name": "ipython",
    "version": 3
   },
   "file_extension": ".py",
   "mimetype": "text/x-python",
   "name": "python",
   "nbconvert_exporter": "python",
   "pygments_lexer": "ipython3",
   "version": "3.11.0"
  },
  "vscode": {
   "interpreter": {
    "hash": "ebd63b96796195b8484c56a28d0ea41b67d5b22be7c83ff5c7ced0e2ede413f2"
   }
  }
 },
 "nbformat": 4,
 "nbformat_minor": 5
}
