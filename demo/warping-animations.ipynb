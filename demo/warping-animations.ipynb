{
 "cells": [
  {
   "cell_type": "code",
   "execution_count": null,
   "id": "f76c371a-4b8f-416a-81cb-a66c0babd0be",
   "metadata": {
    "tags": []
   },
   "outputs": [],
   "source": [
    "import numpy as np\n",
    "import pyvista as pv\n",
    "from tqdm import tqdm\n",
    "\n",
    "from kale import Engine, save_movie, show_ui\n",
    "from kale.algorithms import (\n",
    "    cell_data_to_point_data_algorithm,\n",
    "    contour_banded,\n",
    "    extract_feature_edges_algorithm,\n",
    "    scalars_operation_algorithm,\n",
    "    subdivide_algorithm,\n",
    "    warp_by_scalar_algorithm,\n",
    ")\n",
    "from kale import theme"
   ]
  },
  {
   "cell_type": "code",
   "execution_count": null,
   "id": "c7519a36-6dca-4486-b0d0-438f836602c4",
   "metadata": {
    "tags": []
   },
   "outputs": [],
   "source": [
    "# Theming adjustments\n",
    "pv.global_theme.image_scale = 5"
   ]
  },
  {
   "cell_type": "markdown",
   "id": "edb53270-efae-4033-bf6e-387b830e9237",
   "metadata": {},
   "source": [
    "# Load Data"
   ]
  },
  {
   "cell_type": "code",
   "execution_count": null,
   "id": "87e9c660-8057-4a9d-8b44-9d1290c92928",
   "metadata": {
    "tags": []
   },
   "outputs": [],
   "source": [
    "MESH_GEOMETRY_FILE_NAME = \"nankai_121728_clean.vtk\"\n",
    "MESH_VALUES_FILE_NAME = \"2023_03_04_00_02_03.hdf\"\n",
    "MESH_Z_SCALE = 0.01"
   ]
  },
  {
   "cell_type": "code",
   "execution_count": null,
   "id": "de9c71c1-2f92-4ab5-acc0-99c0e4c16105",
   "metadata": {
    "tags": []
   },
   "outputs": [],
   "source": [
    "engine = Engine(MESH_GEOMETRY_FILE_NAME, MESH_VALUES_FILE_NAME, zscale=MESH_Z_SCALE)\n",
    "engine.keys"
   ]
  },
  {
   "cell_type": "markdown",
   "id": "71e5e140-9d20-4298-bf1a-61fbaa259719",
   "metadata": {
    "tags": []
   },
   "source": [
    "# Find Camera Position\n",
    "\n",
    "This is a helper section to find your preferred camera location"
   ]
  },
  {
   "cell_type": "code",
   "execution_count": null,
   "id": "0a98129d-84e4-46b7-b452-57b323301f59",
   "metadata": {
    "tags": []
   },
   "outputs": [],
   "source": [
    "plc = pv.Plotter()\n",
    "plc.add_mesh(engine.mesh, color=\"beige\")\n",
    "plc.show()"
   ]
  },
  {
   "cell_type": "code",
   "execution_count": null,
   "id": "410dfe14-f1f9-442d-a508-929d21d687c6",
   "metadata": {
    "tags": []
   },
   "outputs": [],
   "source": [
    "# copy value of this output into next cell after moving scene above\n",
    "plc.camera_position"
   ]
  },
  {
   "cell_type": "code",
   "execution_count": null,
   "id": "6af02074-ca43-4c85-8a2b-c80d9e15fe82",
   "metadata": {
    "tags": []
   },
   "outputs": [],
   "source": [
    "# set the camera position (different for different datasets)\n",
    "cpos = [\n",
    "    (117.91283696478234, 37.24460195609967, 6.366970274654328),\n",
    "    (134.58767110519122, 32.70077461447109, -0.3100684512554164),\n",
    "    (0.3427373584560485, -0.1127261631888837, 0.9326435091991383),\n",
    "]"
   ]
  },
  {
   "cell_type": "markdown",
   "id": "06b5f88b-5879-4ebe-a868-00150de06c86",
   "metadata": {},
   "source": [
    "# Choosing data array\n",
    "\n",
    "The following cell is where you can control which variable is being plotted:"
   ]
  },
  {
   "cell_type": "code",
   "execution_count": null,
   "id": "11eaac2a-253a-468a-923e-9258f731300b",
   "metadata": {
    "tags": []
   },
   "outputs": [],
   "source": [
    "engine.mesh.active_scalars_name = \"cumulative_slip\""
   ]
  },
  {
   "cell_type": "code",
   "execution_count": null,
   "id": "4c3fe659-e4ef-4a19-8c61-bcdf117e2462",
   "metadata": {
    "tags": []
   },
   "outputs": [],
   "source": [
    "# Add a surface warping algorithm\n",
    "warp = warp_by_scalar_algorithm(\n",
    "    cell_data_to_point_data_algorithm(engine.algorithm),\n",
    "    scalars=\"geometric_moment\",\n",
    "    factor=0.2e-8,  # This factor is incredibly data-dependent\n",
    ")\n",
    "boundary = extract_feature_edges_algorithm(\n",
    "    warp,\n",
    "    boundary_edges=True,\n",
    "    non_manifold_edges=False,\n",
    "    feature_edges=False,\n",
    "    manifold_edges=False,\n",
    ")"
   ]
  },
  {
   "cell_type": "markdown",
   "id": "5eec1b5f-7614-4500-ae57-55a65616bf44",
   "metadata": {
    "tags": []
   },
   "source": [
    "# Visualize\n",
    "\n",
    "This cell will not produce an output, but instead renders off-screen to create screenshots."
   ]
  },
  {
   "cell_type": "code",
   "execution_count": null,
   "id": "45228c3e-65f7-41ca-83e7-7a29227adb5d",
   "metadata": {
    "tags": []
   },
   "outputs": [],
   "source": [
    "# Set contour levels\n",
    "# CONTOUR_LEVELS = np.linspace(-10e9, 10e9, 11)\n",
    "# CONTOUR_LEVELS = np.linspace(-2500, 2500, 11)\n",
    "CONTOUR_LEVELS = np.linspace(-5, 15, 11)\n",
    "N_COLORS = len(CONTOUR_LEVELS) - 1\n",
    "CLIM = [np.min(CONTOUR_LEVELS), np.max(CONTOUR_LEVELS)]\n",
    "\n",
    "contour, edges = contour_banded(\n",
    "    warp,\n",
    "    CONTOUR_LEVELS,\n",
    "    rng=CLIM,\n",
    "    scalars=engine.mesh.active_scalars_name,\n",
    ")"
   ]
  },
  {
   "cell_type": "code",
   "execution_count": null,
   "id": "e49edc07-86cc-42d9-b040-10e12f623100",
   "metadata": {
    "tags": []
   },
   "outputs": [],
   "source": [
    "annotations = {\n",
    "    np.sum(CLIM) / 2: \"Cumulative Slip\",\n",
    "}\n",
    "\n",
    "#### Plotting code ####\n",
    "pl = pv.Plotter()\n",
    "pl.add_mesh(\n",
    "    contour,\n",
    "    cmap=theme.COLOR_MAPS[engine.mesh.active_scalars_name],\n",
    "    clim=CLIM,\n",
    "    scalars=engine.mesh.active_scalars_name,\n",
    "    n_colors=N_COLORS,\n",
    "    show_scalar_bar=True,\n",
    "    scalar_bar_args=dict(\n",
    "        title=\"\",\n",
    "        vertical=False,\n",
    "        height=0.05,\n",
    "        width=0.33,\n",
    "        position_x=0.33,\n",
    "        position_y=0.1,\n",
    "        **theme.SCALAR_BAR_OPTS,\n",
    "    ),\n",
    "    annotations=annotations,\n",
    ")\n",
    "pl.add_mesh(edges)\n",
    "\n",
    "pl.add_mesh(boundary, color=\"black\")\n",
    "\n",
    "pl.add_floor(\n",
    "    \"-z\",\n",
    "    show_edges=True,\n",
    "    edge_color=\"white\",\n",
    "    color=\"lightgray\",\n",
    ")\n",
    "\n",
    "# Use camera position set earlier\n",
    "pl.camera_position = cpos\n",
    "# pl.camera.zoom(1.5)\n",
    "\n",
    "# Drawing lines as a grid proxy\n",
    "# mesh = pv.Line((0, 0, 0), (0, 0, 1))\n",
    "# mesh.plot(color='k', line_width=10)\n",
    "\n",
    "# Experimenting with lights\n",
    "light = pv.Light((-2, 2, 0), (0, 0, 0), \"white\")\n",
    "pl.add_light(light)\n",
    "\n",
    "\n",
    "# Make a video over time steps\n",
    "step = 100\n",
    "pl.open_movie(f\"warp-{engine.mesh.active_scalars_name}.mp4\", framerate=30, quality=5)\n",
    "for tindex in tqdm(range(1, engine.max_time_step, step)):\n",
    "    engine.time_step = tindex\n",
    "    pl.add_text(\n",
    "        f\"t = {tindex:05d}\",\n",
    "        name=\"time-step-label\",\n",
    "        font_size=theme.AXES_FONT_SIZE * 2,\n",
    "        position=\"upper_edge\",\n",
    "    )\n",
    "    pl.write_frame()\n",
    "pl.close()\n",
    "\n",
    "# show_ui(engine, pl, continuous_update=False)"
   ]
  },
  {
   "cell_type": "code",
   "execution_count": null,
   "id": "1913969e-b663-44e8-9cb0-ea2b84e5977c",
   "metadata": {
    "tags": []
   },
   "outputs": [],
   "source": [
    "import matplotlib.pyplot as plt\n",
    "\n",
    "# Create a figure with 2 rows and 3 columns\n",
    "fig, axes = plt.subplots(2, 3, figsize=(12, 4))\n",
    "\n",
    "# Flatten the axes array to iterate over it easily\n",
    "axes = axes.flatten()\n",
    "\n",
    "# Iterate over the data and plot histograms\n",
    "for i, tstep in enumerate(np.linspace(0, engine.max_time_step - 1, num=6, dtype=int)):\n",
    "    # Select the current axis\n",
    "    ax = axes[i]\n",
    "\n",
    "    engine.time_step = int(tstep)\n",
    "    # Plot the histogram\n",
    "    ax.hist(engine.mesh[\"geometric_moment\"], bins=10)\n",
    "\n",
    "    # Set title and labels\n",
    "    ax.set_title(f\"Histogram t={tstep}\")\n",
    "    ax.set_xlabel(\"geometric_moment\")\n",
    "    ax.set_ylabel(\"Frequency\")\n",
    "\n",
    "    ax.axvline(x=0, color=\"r\", linestyle=\"--\")\n",
    "\n",
    "# Adjust the spacing between subplots\n",
    "plt.tight_layout()\n",
    "\n",
    "# Display the plots\n",
    "plt.show()"
   ]
  },
  {
   "cell_type": "code",
   "execution_count": null,
   "id": "b7f77ab1-55fe-4326-affd-891c6705c58c",
   "metadata": {},
   "outputs": [],
   "source": []
  }
 ],
 "metadata": {
  "kernelspec": {
   "display_name": "kale",
   "language": "python",
   "name": "pyenv_kale"
  },
  "language_info": {
   "codemirror_mode": {
    "name": "ipython",
    "version": 3
   },
   "file_extension": ".py",
   "mimetype": "text/x-python",
   "name": "python",
   "nbconvert_exporter": "python",
   "pygments_lexer": "ipython3",
   "version": "3.11.0"
  }
 },
 "nbformat": 4,
 "nbformat_minor": 5
}
