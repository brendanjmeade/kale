{
 "cells": [
  {
   "cell_type": "code",
   "execution_count": null,
   "id": "09b0384f-8336-4975-bdc3-8ece67c97801",
   "metadata": {},
   "outputs": [],
   "source": [
    "import pyvista as pv\n",
    "\n",
    "from kale import Engine, time_controls\n",
    "from kale.algorithms import contour_banded"
   ]
  },
  {
   "cell_type": "code",
   "execution_count": null,
   "id": "dadac17f-ce1f-4d25-b98f-7c6059c8c82b",
   "metadata": {},
   "outputs": [],
   "source": [
    "# If you can check out https://github.com/pyvista/pyvista/pull/3385, use:\n",
    "await pv.set_jupyter_backend(\"server\")"
   ]
  },
  {
   "cell_type": "markdown",
   "id": "7006c845-e077-44c6-9a6c-4042fb3ef2b6",
   "metadata": {},
   "source": [
    "## Load Data\n",
    "\n",
    "Set up the driver of the data IO and time step management with the `kale.Engine` class"
   ]
  },
  {
   "cell_type": "code",
   "execution_count": null,
   "id": "421cec74-5b16-4b3c-95b1-f896ca93e3c7",
   "metadata": {},
   "outputs": [],
   "source": [
    "engine = Engine(\"2022_11_30_11_52_49_mesh_geometry.vtk\", \"2022_11_30_11_52_49.hdf\")\n",
    "# View available data arrays\n",
    "engine.keys"
   ]
  },
  {
   "cell_type": "code",
   "execution_count": null,
   "id": "f5b91e73-30b6-4684-b14d-4e25552b607a",
   "metadata": {
    "tags": []
   },
   "outputs": [],
   "source": [
    "# Set which array to be active\n",
    "engine.mesh.active_scalars_name = \"cumulative_slip\"\n",
    "# Initialize time where data look interesting\n",
    "engine.time_step = 55849"
   ]
  },
  {
   "cell_type": "markdown",
   "id": "035801ec-794d-4311-8e94-bf8857973403",
   "metadata": {},
   "source": [
    "## Plot with time controls"
   ]
  },
  {
   "cell_type": "code",
   "execution_count": null,
   "id": "2900cc88-69e4-410f-a27a-c5d2f6b3dc99",
   "metadata": {},
   "outputs": [],
   "source": [
    "pl = pv.Plotter()\n",
    "pl.add_mesh(\n",
    "    engine.algorithm,\n",
    "    cmap=\"CET_C3\",\n",
    "    clim=engine.clim(),\n",
    ")\n",
    "pl.add_mesh(engine.boundary, color=\"k\", line_width=3)\n",
    "pl.show()"
   ]
  },
  {
   "cell_type": "code",
   "execution_count": null,
   "id": "684209cc-54ac-435f-9324-c0efbf728cd5",
   "metadata": {
    "tags": []
   },
   "outputs": [],
   "source": [
    "controls = time_controls(engine, pl)\n",
    "controls"
   ]
  },
  {
   "cell_type": "markdown",
   "id": "4119771a-cccf-496f-b6ce-77adbca417fc",
   "metadata": {},
   "source": [
    "## Banded Contouring"
   ]
  },
  {
   "cell_type": "code",
   "execution_count": null,
   "id": "3fbf3dee-57a0-4a8c-8292-72021097a1d9",
   "metadata": {},
   "outputs": [],
   "source": [
    "n_contours = 20"
   ]
  },
  {
   "cell_type": "code",
   "execution_count": null,
   "id": "f1d6fab2-6935-4ebd-a7c1-50b41b881c9d",
   "metadata": {},
   "outputs": [],
   "source": [
    "contour, edges = contour_banded(\n",
    "    engine.algorithm,\n",
    "    n_contours,\n",
    "    rng=engine.clim(),\n",
    "    scalars=engine.mesh.active_scalars_name,\n",
    ")"
   ]
  },
  {
   "cell_type": "code",
   "execution_count": null,
   "id": "05f8d43c-4081-4731-a568-012954f73bb6",
   "metadata": {},
   "outputs": [],
   "source": [
    "pl = pv.Plotter()\n",
    "pl.add_mesh(engine.boundary, color=\"k\", line_width=3)\n",
    "pl.add_mesh(\n",
    "    contour,\n",
    "    cmap=\"CET_C3\",\n",
    "    clim=engine.clim(),\n",
    "    scalars=\"cumulative_slip\",\n",
    "    n_colors=n_contours - 1,\n",
    ")\n",
    "pl.add_mesh(edges.GetOutputPort(1), color=\"k\", line_width=3)\n",
    "pl.show()"
   ]
  },
  {
   "cell_type": "code",
   "execution_count": null,
   "id": "d47ffccc-50d6-4a21-948a-c7c60f8adbd1",
   "metadata": {},
   "outputs": [],
   "source": [
    "controls = time_controls(engine, pl)\n",
    "controls"
   ]
  },
  {
   "cell_type": "markdown",
   "id": "04ed5051-d4b5-4e64-bd03-7a1710faa321",
   "metadata": {},
   "source": [
    "### 4-panel view (all variables)\n",
    "\n",
    "This still needs some optimization to make look really nice but here is a start"
   ]
  },
  {
   "cell_type": "code",
   "execution_count": null,
   "id": "9d0b8864-1ba0-4a28-8295-1c29d595ca13",
   "metadata": {},
   "outputs": [],
   "source": [
    "engine.keys"
   ]
  },
  {
   "cell_type": "code",
   "execution_count": null,
   "id": "d11aec0f-19ff-4c87-9206-ff11dfd75081",
   "metadata": {
    "tags": []
   },
   "outputs": [],
   "source": [
    "pl = pv.Plotter(shape=(1, 4), window_size=(1024 * 2, 768))\n",
    "\n",
    "for i, var in enumerate(engine.keys):\n",
    "    pl.subplot(0, i)\n",
    "    contour, edges = contour_banded(\n",
    "        engine.algorithm, n_contours, rng=engine.clim(), scalars=var\n",
    "    )\n",
    "    pl.add_mesh(contour, cmap=\"CET_C3\", clim=engine.clim(var), n_colors=n_contours - 1)\n",
    "    pl.add_mesh(edges.GetOutputPort(1), color=\"k\", line_width=3)\n",
    "    pl.add_mesh(engine.boundary, color=\"k\", line_width=3)\n",
    "\n",
    "pl.link_views()\n",
    "pl.show()"
   ]
  },
  {
   "cell_type": "code",
   "execution_count": null,
   "id": "3c379fc5-e530-44c2-8628-9033bdcaf722",
   "metadata": {},
   "outputs": [],
   "source": [
    "time_controls(engine, pl)"
   ]
  },
  {
   "cell_type": "code",
   "execution_count": null,
   "id": "fa103f0c-d9fb-466f-b07a-c5bde7d8080d",
   "metadata": {},
   "outputs": [],
   "source": []
  }
 ],
 "metadata": {
  "kernelspec": {
   "display_name": "Python 3 (ipykernel)",
   "language": "python",
   "name": "python3"
  },
  "language_info": {
   "codemirror_mode": {
    "name": "ipython",
    "version": 3
   },
   "file_extension": ".py",
   "mimetype": "text/x-python",
   "name": "python",
   "nbconvert_exporter": "python",
   "pygments_lexer": "ipython3",
   "version": "3.11.0"
  }
 },
 "nbformat": 4,
 "nbformat_minor": 5
}
