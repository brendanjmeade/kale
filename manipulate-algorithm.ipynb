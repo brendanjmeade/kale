{
 "cells": [
  {
   "cell_type": "code",
   "execution_count": null,
   "id": "11020416-3b5d-4fb4-bd05-93e0b1e21a1b",
   "metadata": {},
   "outputs": [],
   "source": [
    "import numpy as np\n",
    "import pyvista as pv\n",
    "from kale.algorithms import scalars_operation_algorithm"
   ]
  },
  {
   "cell_type": "code",
   "execution_count": null,
   "id": "6b6d6260-3ffe-469b-9a11-5bba5ae062f1",
   "metadata": {},
   "outputs": [],
   "source": [
    "wavelet = pv.Wavelet()\n",
    "\n",
    "# Pass the operating function: `np.log`\n",
    "alg = scalars_operation_algorithm(wavelet, np.log, \"log(data)\")\n",
    "\n",
    "pl = pv.Plotter()\n",
    "pl.add_mesh(\n",
    "    alg,\n",
    ")  # scalars=\"log(data)\")\n",
    "pl.show()"
   ]
  },
  {
   "cell_type": "code",
   "execution_count": null,
   "id": "d4b4db0d-744c-4958-a0d9-c0013d4cb565",
   "metadata": {},
   "outputs": [],
   "source": [
    "wavelet"
   ]
  },
  {
   "cell_type": "code",
   "execution_count": null,
   "id": "72ee9683-4c43-47c4-a89f-35157b7cc105",
   "metadata": {},
   "outputs": [],
   "source": [
    "alg.Update()\n",
    "pv.wrap(alg.GetOutputDataObject(0))"
   ]
  },
  {
   "cell_type": "code",
   "execution_count": null,
   "id": "23ebef86-7289-4d1d-9a8b-61c0bfa700cb",
   "metadata": {},
   "outputs": [],
   "source": []
  }
 ],
 "metadata": {
  "kernelspec": {
   "display_name": "Python 3 (ipykernel)",
   "language": "python",
   "name": "python3"
  },
  "language_info": {
   "codemirror_mode": {
    "name": "ipython",
    "version": 3
   },
   "file_extension": ".py",
   "mimetype": "text/x-python",
   "name": "python",
   "nbconvert_exporter": "python",
   "pygments_lexer": "ipython3",
   "version": "3.9.13"
  }
 },
 "nbformat": 4,
 "nbformat_minor": 5
}
