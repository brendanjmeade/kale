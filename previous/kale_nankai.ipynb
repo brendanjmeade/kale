{
 "cells": [
  {
   "cell_type": "code",
   "execution_count": null,
   "id": "09b0384f-8336-4975-bdc3-8ece67c97801",
   "metadata": {
    "tags": []
   },
   "outputs": [],
   "source": [
    "import numpy as np\n",
    "import pyvista as pv\n",
    "from tqdm import tqdm\n",
    "\n",
    "from kale import Engine, save_movie, show_ui\n",
    "from kale.algorithms import (\n",
    "    contour_banded,\n",
    "    scalars_operation_algorithm,\n",
    ")\n",
    "from kale import theme"
   ]
  },
  {
   "cell_type": "code",
   "execution_count": null,
   "id": "af5dc4a5",
   "metadata": {
    "tags": []
   },
   "outputs": [],
   "source": [
    "# MESH_GEOMETRY_FILE_NAME = \"nankai_very_very_dense.vtk\"\n",
    "MESH_GEOMETRY_FILE_NAME = \"nankai_121728_clean.vtk\"\n",
    "# MESH_VALUES_FILE_NAME = \"2023_03_03_16_15_24.hdf\"\n",
    "MESH_VALUES_FILE_NAME = \"2023_03_04_00_02_03.hdf\"\n",
    "MESH_Z_SCALE = 0.01\n",
    "TIME_STEP_INTERESTING = 55849\n",
    "TIME_STEP_INTERESTING = 1000"
   ]
  },
  {
   "cell_type": "markdown",
   "id": "7006c845-e077-44c6-9a6c-4042fb3ef2b6",
   "metadata": {},
   "source": [
    "## Load Data\n",
    "\n",
    "Set up the driver of the data IO and time step management with the `kale.Engine` class"
   ]
  },
  {
   "cell_type": "code",
   "execution_count": null,
   "id": "421cec74-5b16-4b3c-95b1-f896ca93e3c7",
   "metadata": {
    "tags": []
   },
   "outputs": [],
   "source": [
    "engine = Engine(MESH_GEOMETRY_FILE_NAME, MESH_VALUES_FILE_NAME, zscale=MESH_Z_SCALE)\n",
    "engine.keys"
   ]
  },
  {
   "cell_type": "code",
   "execution_count": null,
   "id": "f5b91e73-30b6-4684-b14d-4e25552b607a",
   "metadata": {
    "tags": []
   },
   "outputs": [],
   "source": [
    "# Set which array to be active\n",
    "engine.mesh.active_scalars_name = \"geometric_moment\"\n",
    "engine.time_step = TIME_STEP_INTERESTING"
   ]
  },
  {
   "cell_type": "code",
   "execution_count": null,
   "id": "5afd42fe-5859-437f-9c55-ef3960534af8",
   "metadata": {
    "tags": []
   },
   "outputs": [],
   "source": [
    "cpos = [\n",
    "    (246.72654935831832, 56.640050977986135, 19.47264855846906),\n",
    "    (235.64372937685064, 45.67443514953468, -0.9481135945038834),\n",
    "    (-0.6591979033815945, -0.45237409343002455, 0.6006794517633125),\n",
    "]"
   ]
  },
  {
   "cell_type": "code",
   "execution_count": null,
   "id": "a5ea1e2d-0b02-4cc8-acf2-333c8f6a14ff",
   "metadata": {
    "tags": []
   },
   "outputs": [],
   "source": [
    "engine.mesh"
   ]
  },
  {
   "cell_type": "markdown",
   "id": "035801ec-794d-4311-8e94-bf8857973403",
   "metadata": {
    "tags": []
   },
   "source": [
    "## Plot with time controls"
   ]
  },
  {
   "cell_type": "code",
   "execution_count": null,
   "id": "2900cc88-69e4-410f-a27a-c5d2f6b3dc99",
   "metadata": {
    "tags": []
   },
   "outputs": [],
   "source": [
    "pl = pv.Plotter()\n",
    "pl.add_mesh(\n",
    "    engine.algorithm,\n",
    "    cmap=theme.COLOR_MAPS[engine.mesh.active_scalars_name],\n",
    "    clim=engine.clim(),\n",
    "    show_scalar_bar=True,\n",
    "    scalar_bar_args=theme.SCALAR_BAR_OPTS,\n",
    ")\n",
    "pl.add_mesh(engine.boundary)\n",
    "# pl.camera_position = cpos\n",
    "show_ui(engine, pl)"
   ]
  },
  {
   "cell_type": "code",
   "execution_count": null,
   "id": "92c12cae-d608-4183-8d7d-83a851410ed5",
   "metadata": {},
   "outputs": [],
   "source": [
    "# Run cell to fetch current position\n",
    "pl.camera_position"
   ]
  },
  {
   "cell_type": "markdown",
   "id": "4119771a-cccf-496f-b6ce-77adbca417fc",
   "metadata": {
    "tags": []
   },
   "source": [
    "## Banded Contouring"
   ]
  },
  {
   "cell_type": "code",
   "execution_count": null,
   "id": "e9899886",
   "metadata": {},
   "outputs": [],
   "source": [
    "engine.mesh.active_scalars_name = \"geometric_moment\"\n",
    "\n",
    "# Manipulate the quantity\n",
    "operation = np.cbrt\n",
    "MANIPULATED_ARRAY_NAME = f\"cbrt({engine.mesh.active_scalars_name})\"\n",
    "manipulated = scalars_operation_algorithm(\n",
    "    engine.algorithm, operation, output_scalars_name=MANIPULATED_ARRAY_NAME\n",
    ")\n",
    "\n",
    "# CONTOUR_LEVELS = np.linspace(-10e9, 10e9, 11)\n",
    "CONTOUR_LEVELS = np.linspace(-2500, 2500, 11)\n",
    "N_COLORS = len(CONTOUR_LEVELS) - 1\n",
    "CLIM = [np.min(CONTOUR_LEVELS), np.max(CONTOUR_LEVELS)]\n",
    "\n",
    "contour, edges = contour_banded(\n",
    "    manipulated,\n",
    "    CONTOUR_LEVELS,\n",
    "    rng=CLIM,\n",
    "    scalars=MANIPULATED_ARRAY_NAME,\n",
    ")\n",
    "\n",
    "pl = pv.Plotter()\n",
    "pl.add_mesh(engine.boundary)\n",
    "actor = pl.add_mesh(\n",
    "    contour,\n",
    "    cmap=theme.COLOR_MAPS[engine.mesh.active_scalars_name],\n",
    "    clim=CLIM,\n",
    "    scalars=MANIPULATED_ARRAY_NAME,\n",
    "    n_colors=N_COLORS,\n",
    ")\n",
    "pl.add_scalar_bar(\n",
    "    mapper=actor.mapper,\n",
    "    # title=f\"{MANIPULATED_ARRAY_NAME}\",\n",
    "    title=f\"m\",\n",
    "    **theme.SCALAR_BAR_OPTS,\n",
    ")\n",
    "pl.add_mesh(edges)\n",
    "pl.add_text(f\"i = {1:05d}\", name=\"time-step-label\", font_size=theme.TIMESTEP_FONT_SIZE)\n",
    "\n",
    "box = pv.Box(engine.mesh.bounds)\n",
    "pl.add_mesh(box, color=\"lightgrey\", culling=\"front\")\n",
    "\n",
    "# pl.camera_position = cpos\n",
    "pl.camera.zoom(1.2)\n",
    "\n",
    "# Drawing lines as a grid proxy\n",
    "# mesh = pv.Line((0, 0, 0), (0, 0, 1))\n",
    "# mesh.plot(color='k', line_width=10)\n",
    "\n",
    "# Experimenting with lights\n",
    "light = pv.Light((-2, 2, 0), (0, 0, 0), \"white\")\n",
    "pl.add_light(light)\n",
    "show_ui(engine, pl)"
   ]
  },
  {
   "cell_type": "markdown",
   "id": "04ed5051-d4b5-4e64-bd03-7a1710faa321",
   "metadata": {
    "tags": []
   },
   "source": [
    "### 4-panel view (all variables)\n",
    "\n",
    "This still needs some optimization to make look really nice but here is a start"
   ]
  },
  {
   "cell_type": "code",
   "execution_count": null,
   "id": "9d0b8864-1ba0-4a28-8295-1c29d595ca13",
   "metadata": {},
   "outputs": [],
   "source": [
    "engine.keys"
   ]
  },
  {
   "cell_type": "code",
   "execution_count": null,
   "id": "d11aec0f-19ff-4c87-9206-ff11dfd75081",
   "metadata": {
    "tags": []
   },
   "outputs": [],
   "source": [
    "pl = pv.Plotter(shape=(1, 4), window_size=(1024 * 2, 768))\n",
    "\n",
    "for i, var in enumerate(engine.keys):\n",
    "    pl.subplot(0, i)\n",
    "    contour, edges = contour_banded(\n",
    "        # TODO: set contour levels for each scalar, for now use N\n",
    "        engine.algorithm,\n",
    "        11,\n",
    "        rng=engine.clim(var),\n",
    "        scalars=var,\n",
    "    )\n",
    "    pl.add_mesh(\n",
    "        contour,\n",
    "        cmap=theme.COLOR_MAPS[var],\n",
    "        clim=engine.clim(var),\n",
    "        n_colors=11 - 1,\n",
    "        show_scalar_bar=True,\n",
    "        scalar_bar_args=theme.SCALAR_BAR_OPTS,\n",
    "    )\n",
    "    pl.add_mesh(edges)\n",
    "    pl.add_mesh(engine.boundary)\n",
    "\n",
    "pl.link_views()\n",
    "pl.camera_position = cpos\n",
    "show_ui(engine, pl)"
   ]
  },
  {
   "cell_type": "markdown",
   "id": "ec2ac577-a4bf-4bc1-b1c1-60115893b11b",
   "metadata": {
    "tags": []
   },
   "source": [
    "## Save Videos"
   ]
  },
  {
   "cell_type": "code",
   "execution_count": null,
   "id": "e09ff713-6452-4034-b9fd-838808554640",
   "metadata": {},
   "outputs": [],
   "source": [
    "# var = \"cumulative_slip\"\n",
    "var = \"geometric_moment\"\n",
    "\n",
    "pl = pv.Plotter()\n",
    "pl.add_mesh(engine.boundary_smoothed)\n",
    "contour, edges = contour_banded(\n",
    "    engine.algorithm,\n",
    "    CONTOUR_LEVELS,\n",
    "    rng=CLIM,\n",
    "    scalars=var,\n",
    ")\n",
    "pl.add_mesh(\n",
    "    contour,\n",
    "    cmap=theme.COLOR_MAPS[var],\n",
    "    clim=CLIM,\n",
    "    n_colors=N_COLORS,\n",
    "    show_scalar_bar=True,\n",
    "    scalar_bar_args=theme.SCALAR_BAR_OPTS,\n",
    ")\n",
    "pl.add_mesh(edges)\n",
    "pl.add_mesh(engine.boundary)\n",
    "\n",
    "pl.camera_position = cpos\n",
    "\n",
    "pl.image_scale = 2\n",
    "# Make a video over time steps\n",
    "# save_movie(engine, plotter, f'{var}.mpg', framerate=24, quality=1)\n",
    "step = 500\n",
    "# step = 1\n",
    "pl.open_movie(f\"{var}.mp4\", framerate=48, quality=5)\n",
    "for tindex in tqdm(range(0, engine.max_time_step, step)):\n",
    "    engine.time_step = tindex\n",
    "    pl.add_text(f\"time step: {tindex:05d}\", name=\"time-step-label\", font_size=18)\n",
    "    pl.write_frame()\n",
    "pl.close()"
   ]
  },
  {
   "cell_type": "markdown",
   "id": "767d2680",
   "metadata": {},
   "source": [
    "# Updated video style"
   ]
  },
  {
   "cell_type": "code",
   "execution_count": null,
   "id": "e6c1f320",
   "metadata": {},
   "outputs": [],
   "source": [
    "var = \"geometric_moment\"\n",
    "\n",
    "engine.mesh.active_scalars_name = var\n",
    "\n",
    "# Manipulate the quantity\n",
    "operation = np.cbrt\n",
    "MANIPULATED_ARRAY_NAME = f\"cbrt({engine.mesh.active_scalars_name})\"\n",
    "manipulated = scalars_operation_algorithm(\n",
    "    engine.algorithm, operation, output_scalars_name=MANIPULATED_ARRAY_NAME\n",
    ")\n",
    "\n",
    "# CONTOUR_LEVELS = np.linspace(-10e9, 10e9, 11)\n",
    "CONTOUR_LEVELS = np.linspace(-600, 600, 11)\n",
    "N_COLORS = len(CONTOUR_LEVELS) - 1\n",
    "CLIM = [np.min(CONTOUR_LEVELS), np.max(CONTOUR_LEVELS)]\n",
    "\n",
    "pl = pv.Plotter()\n",
    "pl.add_mesh(engine.boundary_smoothed)\n",
    "\n",
    "contour, edges = contour_banded(\n",
    "    manipulated,\n",
    "    CONTOUR_LEVELS,\n",
    "    rng=CLIM,\n",
    "    scalars=MANIPULATED_ARRAY_NAME,\n",
    ")\n",
    "\n",
    "pl.add_mesh(\n",
    "    contour,\n",
    "    # cmap=COLOR_MAPS[var],\n",
    "    # cmap=\"PuOr_r\",\n",
    "    cmap=\"RdYlBu_r\",\n",
    "    clim=CLIM,\n",
    "    n_colors=N_COLORS,\n",
    "    show_scalar_bar=True,\n",
    "    scalar_bar_args=dict(title=f\"\", **theme.SCALAR_BAR_OPTS),\n",
    ")\n",
    "pl.add_mesh(edges)\n",
    "pl.add_mesh(engine.boundary)\n",
    "\n",
    "box = pv.Box(engine.mesh.bounds)\n",
    "pl.add_mesh(box, color=\"lightgrey\", culling=\"front\")\n",
    "\n",
    "pl.camera.zoom(1.2)\n",
    "pl.image_scale = 2\n",
    "\n",
    "# Make a video over time steps\n",
    "step = 10\n",
    "pl.open_movie(f\"{var}_test.mp4\", framerate=60, quality=5)\n",
    "for tindex in tqdm(range(0, engine.max_time_step, step)):\n",
    "    engine.time_step = tindex\n",
    "    pl.add_text(f\"i = {tindex:05d}\", name=\"time-step-label\", position=\"lower_edge\")\n",
    "    pl.write_frame()\n",
    "pl.close()"
   ]
  },
  {
   "cell_type": "code",
   "execution_count": null,
   "id": "496cf1e8",
   "metadata": {},
   "outputs": [],
   "source": []
  }
 ],
 "metadata": {
  "kernelspec": {
   "display_name": "kale",
   "language": "python",
   "name": "pyenv_kale"
  },
  "language_info": {
   "codemirror_mode": {
    "name": "ipython",
    "version": 3
   },
   "file_extension": ".py",
   "mimetype": "text/x-python",
   "name": "python",
   "nbconvert_exporter": "python",
   "pygments_lexer": "ipython3",
   "version": "3.11.0"
  }
 },
 "nbformat": 4,
 "nbformat_minor": 5
}
