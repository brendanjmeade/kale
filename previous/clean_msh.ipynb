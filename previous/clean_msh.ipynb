{
 "cells": [
  {
   "cell_type": "code",
   "execution_count": null,
   "metadata": {},
   "outputs": [],
   "source": [
    "import meshio\n",
    "\n",
    "msh_file_name = \"nankai_test.msh\"\n",
    "meshio_object = meshio.read(msh_file_name)\n",
    "\n",
    "for i in sorted(range(len(meshio_object.cells)), reverse=True):\n",
    "    if meshio_object.cells[i].type != \"triangle\":\n",
    "        del meshio_object.cells[i]\n",
    "\n",
    "meshio_object.write(\"nankai_test_clean.msh\")"
   ]
  }
 ],
 "metadata": {
  "kernelspec": {
   "display_name": "Python 3 (ipykernel)",
   "language": "python",
   "name": "python3"
  },
  "language_info": {
   "codemirror_mode": {
    "name": "ipython",
    "version": 3
   },
   "file_extension": ".py",
   "mimetype": "text/x-python",
   "name": "python",
   "nbconvert_exporter": "python",
   "pygments_lexer": "ipython3",
   "version": "3.11.0"
  }
 },
 "nbformat": 4,
 "nbformat_minor": 4
}
