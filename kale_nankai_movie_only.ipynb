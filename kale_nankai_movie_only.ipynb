{
 "cells": [
  {
   "cell_type": "code",
   "execution_count": 1,
   "id": "09b0384f-8336-4975-bdc3-8ece67c97801",
   "metadata": {},
   "outputs": [],
   "source": [
    "import numpy as np\n",
    "import pyvista as pv\n",
    "from tqdm import tqdm\n",
    "\n",
    "from kale import Engine, save_movie, show_ui\n",
    "from kale.algorithms import (\n",
    "    contour_banded,\n",
    "    subdivide_algorithm,\n",
    "    scalars_operation_algorithm,\n",
    ")"
   ]
  },
  {
   "cell_type": "code",
   "execution_count": 2,
   "id": "dadac17f-ce1f-4d25-b98f-7c6059c8c82b",
   "metadata": {},
   "outputs": [],
   "source": [
    "# Requires PyVista 0.38.1\n",
    "pv.set_jupyter_backend(\"server\")\n",
    "pv.global_theme.trame.interactive_ratio = 2\n",
    "pv.global_theme.trame.still_ratio = 2\n",
    "pv.global_theme.image_scale = 2  # upscales the saved screenshots/video frames"
   ]
  },
  {
   "cell_type": "code",
   "execution_count": 3,
   "id": "af5dc4a5",
   "metadata": {},
   "outputs": [],
   "source": [
    "# MESH_GEOMETRY_FILE_NAME = \"nankai_very_very_dense.vtk\"\n",
    "MESH_GEOMETRY_FILE_NAME = \"nankai_121728_clean.vtk\"\n",
    "# MESH_VALUES_FILE_NAME = \"2023_03_03_16_15_24.hdf\"\n",
    "MESH_VALUES_FILE_NAME = \"2023_03_04_00_02_03.hdf\"\n",
    "MESH_Z_SCALE = 0.01\n",
    "TIME_STEP_INTERESTING = 55849\n",
    "TIME_STEP_INTERESTING = 1000\n",
    "\n",
    "LINE_WIDTH = 1\n",
    "CONTOUR_LINE_COLOR = \"black\"\n",
    "COLOR_MAPS = {\n",
    "    \"cumulative_slip\": \"CET_L19\",  #'CET_C3',\n",
    "    \"geometric_moment\": \"CET_R3\",\n",
    "    \"last_event_slip\": \"CET_L19\",\n",
    "    \"loading_rate\": \"CET_C3\",\n",
    "}\n",
    "\n",
    "# TODO: The same fontsizes seem to produce different sized fonts on the figure\n",
    "# I'd like all fonts to be the same size and type\n",
    "COLORBAR_FONT_SIZE = 34\n",
    "AXES_FONT_SIZE = 26\n",
    "TIMESTEP_FONT_SIZE = 12\n",
    "\n",
    "SCALAR_BAR_OPTS = dict(\n",
    "    # Position (coordinates are on the viewport)\n",
    "    vertical=True,\n",
    "    height=0.20,\n",
    "    width=0.05,\n",
    "    position_x=0.05,\n",
    "    position_y=0.40,\n",
    "    # Labels\n",
    "    title_font_size=AXES_FONT_SIZE,\n",
    "    label_font_size=AXES_FONT_SIZE,\n",
    "    n_labels=3,\n",
    "    italic=False,\n",
    "    fmt=\"%.1f\",\n",
    "    font_family=\"arial\",\n",
    "    shadow=True,\n",
    ")"
   ]
  },
  {
   "cell_type": "markdown",
   "id": "7006c845-e077-44c6-9a6c-4042fb3ef2b6",
   "metadata": {},
   "source": [
    "## Load Data\n",
    "\n",
    "Set up the driver of the data IO and time step management with the `kale.Engine` class"
   ]
  },
  {
   "cell_type": "code",
   "execution_count": 4,
   "id": "421cec74-5b16-4b3c-95b1-f896ca93e3c7",
   "metadata": {},
   "outputs": [
    {
     "data": {
      "text/plain": [
       "['cumulative_slip', 'geometric_moment', 'last_event_slip', 'loading_rate']"
      ]
     },
     "execution_count": 4,
     "metadata": {},
     "output_type": "execute_result"
    }
   ],
   "source": [
    "engine = Engine(MESH_GEOMETRY_FILE_NAME, MESH_VALUES_FILE_NAME, zscale=MESH_Z_SCALE)\n",
    "engine.keys"
   ]
  },
  {
   "cell_type": "code",
   "execution_count": 5,
   "id": "f5b91e73-30b6-4684-b14d-4e25552b607a",
   "metadata": {
    "tags": []
   },
   "outputs": [],
   "source": [
    "# Set which array to be active\n",
    "engine.mesh.active_scalars_name = \"geometric_moment\"\n",
    "engine.time_step = TIME_STEP_INTERESTING"
   ]
  },
  {
   "attachments": {},
   "cell_type": "markdown",
   "id": "767d2680",
   "metadata": {},
   "source": [
    "# Updated video style"
   ]
  },
  {
   "cell_type": "code",
   "execution_count": 6,
   "id": "e6c1f320",
   "metadata": {},
   "outputs": [
    {
     "name": "stderr",
     "output_type": "stream",
     "text": [
      "100%|██████████| 10/10 [00:02<00:00,  4.59it/s]\n"
     ]
    }
   ],
   "source": [
    "SCALAR_BAR_OPTS = dict(\n",
    "    # Position (coordinates are on the viewport)\n",
    "    vertical=True,\n",
    "    height=0.00,\n",
    "    width=0.00,\n",
    "    position_x=0.05,\n",
    "    position_y=0.40,\n",
    "    # Labels\n",
    "    title_font_size=0,\n",
    "    label_font_size=0,\n",
    "    n_labels=0,\n",
    "    italic=False,\n",
    "    fmt=\"%.1f\",\n",
    "    font_family=\"arial\",\n",
    "    shadow=True,\n",
    ")\n",
    "\n",
    "var = \"geometric_moment\"\n",
    "\n",
    "engine.mesh.active_scalars_name = \"geometric_moment\"\n",
    "\n",
    "# Manipulate the quantity\n",
    "operation = np.cbrt\n",
    "MANIPULATED_ARRAY_NAME = f\"cbrt({engine.mesh.active_scalars_name})\"\n",
    "manipulated = scalars_operation_algorithm(\n",
    "    engine.algorithm, operation, output_scalars_name=MANIPULATED_ARRAY_NAME\n",
    ")\n",
    "\n",
    "# CONTOUR_LEVELS = np.linspace(-10e9, 10e9, 11)\n",
    "CONTOUR_LEVELS = np.linspace(-600, 600, 11)\n",
    "N_COLORS = len(CONTOUR_LEVELS) - 1\n",
    "CLIM = [np.min(CONTOUR_LEVELS), np.max(CONTOUR_LEVELS)]\n",
    "\n",
    "pl = pv.Plotter()\n",
    "pl.add_mesh(engine.boundary_smoothed, color=\"k\", line_width=LINE_WIDTH)\n",
    "\n",
    "contour, edges = contour_banded(\n",
    "    manipulated,\n",
    "    CONTOUR_LEVELS,\n",
    "    rng=CLIM,\n",
    "    scalars=MANIPULATED_ARRAY_NAME,\n",
    ")\n",
    "\n",
    "pl.add_mesh(\n",
    "    contour,\n",
    "    # cmap=COLOR_MAPS[var],\n",
    "    # cmap=\"PuOr_r\",\n",
    "    cmap=\"RdYlBu_r\",    \n",
    "    clim=CLIM,\n",
    "    n_colors=N_COLORS,\n",
    "    scalar_bar_args=dict(title=f\"\", **SCALAR_BAR_OPTS),\n",
    ")\n",
    "pl.add_mesh(edges.GetOutputPort(1), color=CONTOUR_LINE_COLOR, line_width=LINE_WIDTH, edge_color=\"k\")\n",
    "pl.add_mesh(engine.boundary, color=CONTOUR_LINE_COLOR, line_width=LINE_WIDTH, edge_color=\"k\")\n",
    "\n",
    "box = pv.Box(engine.mesh.bounds)\n",
    "pl.add_mesh(box, color=\"lightgrey\", culling=\"front\")\n",
    "pl.camera.zoom(1.2)\n",
    "pl.image_scale = 2\n",
    "\n",
    "# Make a video over time steps\n",
    "step = 5000\n",
    "pl.open_movie(f\"{var}_nankai_movie_only.mp4\", framerate=60, quality=5)\n",
    "for tindex in tqdm(range(0, engine.max_time_step, step)):\n",
    "    engine.time_step = tindex\n",
    "    pl.add_text(f\"i = {tindex:05d}\", name=\"time-step-label\", position=\"lower_edge\")\n",
    "    pl.write_frame()\n",
    "pl.close()\n"
   ]
  },
  {
   "cell_type": "code",
   "execution_count": null,
   "id": "496cf1e8",
   "metadata": {},
   "outputs": [],
   "source": []
  }
 ],
 "metadata": {
  "kernelspec": {
   "display_name": "Python 3 (ipykernel)",
   "language": "python",
   "name": "python3"
  },
  "language_info": {
   "codemirror_mode": {
    "name": "ipython",
    "version": 3
   },
   "file_extension": ".py",
   "mimetype": "text/x-python",
   "name": "python",
   "nbconvert_exporter": "python",
   "pygments_lexer": "ipython3",
   "version": "3.11.0"
  },
  "vscode": {
   "interpreter": {
    "hash": "ebd63b96796195b8484c56a28d0ea41b67d5b22be7c83ff5c7ced0e2ede413f2"
   }
  }
 },
 "nbformat": 4,
 "nbformat_minor": 5
}
