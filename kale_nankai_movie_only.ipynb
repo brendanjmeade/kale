{
 "cells": [
  {
   "cell_type": "code",
   "execution_count": null,
   "id": "09b0384f-8336-4975-bdc3-8ece67c97801",
   "metadata": {
    "tags": []
   },
   "outputs": [],
   "source": [
    "import numpy as np\n",
    "import pyvista as pv\n",
    "from tqdm import tqdm\n",
    "\n",
    "from kale import Engine, save_movie, show_ui\n",
    "from kale.algorithms import (\n",
    "    contour_banded,\n",
    "    scalars_operation_algorithm,\n",
    ")\n",
    "from kale import theme"
   ]
  },
  {
   "cell_type": "markdown",
   "id": "7006c845-e077-44c6-9a6c-4042fb3ef2b6",
   "metadata": {},
   "source": [
    "## Load Data\n",
    "\n",
    "Set up the driver of the data IO and time step management with the `kale.Engine` class"
   ]
  },
  {
   "cell_type": "code",
   "execution_count": null,
   "id": "af5dc4a5",
   "metadata": {
    "tags": []
   },
   "outputs": [],
   "source": [
    "# MESH_GEOMETRY_FILE_NAME = \"nankai_very_very_dense.vtk\"\n",
    "MESH_GEOMETRY_FILE_NAME = \"nankai_121728_clean.vtk\"\n",
    "# MESH_VALUES_FILE_NAME = \"2023_03_03_16_15_24.hdf\"\n",
    "MESH_VALUES_FILE_NAME = \"2023_03_04_00_02_03.hdf\"\n",
    "MESH_Z_SCALE = 0.01\n",
    "TIME_STEP_INTERESTING = 55849\n",
    "TIME_STEP_INTERESTING = 1000"
   ]
  },
  {
   "cell_type": "code",
   "execution_count": null,
   "id": "421cec74-5b16-4b3c-95b1-f896ca93e3c7",
   "metadata": {
    "tags": []
   },
   "outputs": [],
   "source": [
    "engine = Engine(MESH_GEOMETRY_FILE_NAME, MESH_VALUES_FILE_NAME, zscale=MESH_Z_SCALE)\n",
    "engine.keys"
   ]
  },
  {
   "cell_type": "code",
   "execution_count": null,
   "id": "f5b91e73-30b6-4684-b14d-4e25552b607a",
   "metadata": {
    "tags": []
   },
   "outputs": [],
   "source": [
    "# Set which array to be active\n",
    "engine.mesh.active_scalars_name = \"geometric_moment\"\n",
    "engine.time_step = TIME_STEP_INTERESTING"
   ]
  },
  {
   "cell_type": "code",
   "execution_count": null,
   "id": "f57dd778-2f46-4539-b262-a1d2ad00b060",
   "metadata": {
    "tags": []
   },
   "outputs": [],
   "source": [
    "var = \"geometric_moment\"\n",
    "engine.mesh.active_scalars_name = var"
   ]
  },
  {
   "cell_type": "markdown",
   "id": "767d2680",
   "metadata": {},
   "source": [
    "# Updated video style"
   ]
  },
  {
   "cell_type": "code",
   "execution_count": null,
   "id": "e6c1f320",
   "metadata": {
    "tags": []
   },
   "outputs": [],
   "source": [
    "# Manipulate the quantity\n",
    "operation = np.cbrt\n",
    "MANIPULATED_ARRAY_NAME = f\"cbrt({engine.mesh.active_scalars_name})\"\n",
    "manipulated = scalars_operation_algorithm(\n",
    "    engine.algorithm, operation, output_scalars_name=MANIPULATED_ARRAY_NAME\n",
    ")\n",
    "\n",
    "# CONTOUR_LEVELS = np.linspace(-10e9, 10e9, 11)\n",
    "CONTOUR_LEVELS = np.linspace(-600, 600, 11)\n",
    "N_COLORS = len(CONTOUR_LEVELS) - 1\n",
    "CLIM = [np.min(CONTOUR_LEVELS), np.max(CONTOUR_LEVELS)]\n",
    "contour, edges = contour_banded(\n",
    "    manipulated,\n",
    "    CONTOUR_LEVELS,\n",
    "    rng=CLIM,\n",
    "    scalars=MANIPULATED_ARRAY_NAME,\n",
    ")\n",
    "\n",
    "pl = pv.Plotter()\n",
    "pl.add_mesh(engine.boundary_smoothed)\n",
    "\n",
    "actor = pl.add_mesh(\n",
    "    contour,\n",
    "    # cmap=COLOR_MAPS[var],\n",
    "    # cmap=\"PuOr_r\",\n",
    "    cmap=\"RdYlBu_r\",\n",
    "    clim=CLIM,\n",
    "    n_colors=N_COLORS,\n",
    ")\n",
    "pl.add_scalar_bar(mapper=actor.mapper, title=f\"\", **theme.SCALAR_BAR_OPTS)\n",
    "\n",
    "pl.add_mesh(edges)\n",
    "pl.add_mesh(engine.boundary)\n",
    "\n",
    "box = pv.Box(engine.mesh.bounds)\n",
    "pl.add_mesh(box, color=\"lightgrey\", culling=\"front\")\n",
    "\n",
    "pl.camera.zoom(1.2)\n",
    "\n",
    "# Make a video over time steps\n",
    "step = 500\n",
    "pl.open_movie(f\"{var}_nankai_movie_only.mp4\", framerate=60, quality=5)\n",
    "for tindex in tqdm(range(0, engine.max_time_step, step)):\n",
    "    engine.time_step = tindex\n",
    "    pl.add_text(f\"i = {tindex:05d}\", name=\"time-step-label\", position=\"lower_edge\")\n",
    "    pl.write_frame()\n",
    "pl.close()"
   ]
  },
  {
   "cell_type": "code",
   "execution_count": null,
   "id": "496cf1e8",
   "metadata": {
    "tags": []
   },
   "outputs": [],
   "source": []
  }
 ],
 "metadata": {
  "kernelspec": {
   "display_name": "kale",
   "language": "python",
   "name": "pyenv_kale"
  },
  "language_info": {
   "codemirror_mode": {
    "name": "ipython",
    "version": 3
   },
   "file_extension": ".py",
   "mimetype": "text/x-python",
   "name": "python",
   "nbconvert_exporter": "python",
   "pygments_lexer": "ipython3",
   "version": "3.11.0"
  },
  "vscode": {
   "interpreter": {
    "hash": "ebd63b96796195b8484c56a28d0ea41b67d5b22be7c83ff5c7ced0e2ede413f2"
   }
  }
 },
 "nbformat": 4,
 "nbformat_minor": 5
}
