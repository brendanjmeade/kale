{
 "cells": [
  {
   "cell_type": "code",
   "execution_count": 45,
   "metadata": {},
   "outputs": [
    {
     "name": "stdout",
     "output_type": "stream",
     "text": [
      "\n",
      "<meshio CellBlock, type: triangle, num cells: 24064, tags: []>\n",
      "<meshio CellBlock, type: triangle, num cells: 37248, tags: []>\n",
      "<meshio CellBlock, type: triangle, num cells: 20992, tags: []>\n",
      "<meshio CellBlock, type: triangle, num cells: 24256, tags: []>\n",
      "<meshio CellBlock, type: triangle, num cells: 15168, tags: []>\n"
     ]
    }
   ],
   "source": [
    "import meshio\n",
    "\n",
    "msh_file_name = \"nankai_test.msh\"\n",
    "meshio_object = meshio.read(msh_file_name)\n",
    "\n",
    "for i in sorted(range(len(meshio_object.cells)), reverse=True):\n",
    "    if meshio_object.cells[i].type != \"triangle\":\n",
    "        del meshio_object.cells[i]\n",
    "\n",
    "meshio_object.write(\"nankai_test_clean.msh\")"
   ]
  }
 ],
 "metadata": {
  "kernelspec": {
   "display_name": "celeri",
   "language": "python",
   "name": "python3"
  },
  "language_info": {
   "codemirror_mode": {
    "name": "ipython",
    "version": 3
   },
   "file_extension": ".py",
   "mimetype": "text/x-python",
   "name": "python",
   "nbconvert_exporter": "python",
   "pygments_lexer": "ipython3",
   "version": "3.10.9"
  },
  "orig_nbformat": 4
 },
 "nbformat": 4,
 "nbformat_minor": 2
}
